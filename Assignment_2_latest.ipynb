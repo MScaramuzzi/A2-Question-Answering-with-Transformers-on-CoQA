{
  "cells": [
    {
      "cell_type": "markdown",
      "id": "d1d23b6c",
      "metadata": {
        "id": "d1d23b6c"
      },
      "source": [
        "# Assignment 2\n",
        "\n",
        "**Credits**: Andrea Galassi, Federico Ruggeri, Paolo Torroni\n",
        "\n",
        "**Keywords**: Transformers, Question Answering, CoQA"
      ]
    },
    {
      "cell_type": "markdown",
      "id": "bd3f451b",
      "metadata": {
        "id": "bd3f451b"
      },
      "source": [
        "## Deadlines\n",
        "\n",
        "* **December 11**, 2022: deadline for having assignments graded by January 11, 2023\n",
        "* **January 11**, 2023: deadline for half-point speed bonus per assignment\n",
        "* **After January 11**, 2023: assignments are still accepted, but there will be no speed bonus"
      ]
    },
    {
      "cell_type": "markdown",
      "id": "11ada8c8",
      "metadata": {
        "id": "11ada8c8"
      },
      "source": [
        "## Overview"
      ]
    },
    {
      "cell_type": "markdown",
      "id": "47c07553",
      "metadata": {
        "id": "47c07553"
      },
      "source": [
        "### Problem\n",
        "\n",
        "Question Answering (QA) on [CoQA](https://stanfordnlp.github.io/coqa/) dataset: a conversational QA dataset."
      ]
    },
    {
      "cell_type": "markdown",
      "id": "b4907f8d",
      "metadata": {
        "id": "b4907f8d"
      },
      "source": [
        "### Task\n",
        "\n",
        "Given a question $Q$, a text passage $P$, the task is to generate the answer $A$.<br>\n",
        "$\\rightarrow A$ can be: (i) a free-form text or (ii) unanswerable;\n",
        "\n",
        "**Note**: an question $Q$ can refer to previous dialogue turns. <br>\n",
        "$\\rightarrow$ dialogue history $H$ may be a valuable input to provide the correct answer $A$."
      ]
    },
    {
      "cell_type": "markdown",
      "id": "9b3760b5",
      "metadata": {
        "id": "9b3760b5"
      },
      "source": [
        "### Models\n",
        "\n",
        "We are going to experiment with transformer-based models to define the following models:\n",
        "\n",
        "1.  $A = f_\\theta(Q, P)$\n",
        "\n",
        "2. $A = f_\\theta(Q, P, H)$\n",
        "\n",
        "where $f_\\theta$ is the transformer-based model we have to define with $\\theta$ parameters."
      ]
    },
    {
      "cell_type": "markdown",
      "id": "66cfee64",
      "metadata": {
        "id": "66cfee64"
      },
      "source": [
        "## The CoQA dataset"
      ]
    },
    {
      "cell_type": "markdown",
      "id": "996fa650",
      "metadata": {
        "id": "996fa650"
      },
      "source": [
        "<center>\n",
        "    <img src=\"https://drive.google.com/uc?export=view&id=16vrgyfoV42Z2AQX0QY7LHTfrgektEKKh\" width=\"750\"/>\n",
        "</center>"
      ]
    },
    {
      "cell_type": "markdown",
      "id": "f6e3e7d0",
      "metadata": {
        "id": "f6e3e7d0"
      },
      "source": [
        "For detailed information about the dataset, feel free to check the original [paper](https://arxiv.org/pdf/1808.07042.pdf).\n",
        "\n"
      ]
    },
    {
      "cell_type": "markdown",
      "id": "bfb6c37e",
      "metadata": {
        "id": "bfb6c37e"
      },
      "source": [
        "## Rationales\n",
        "\n",
        "Each QA pair is paired with a rationale $R$: it is a text span extracted from the given text passage $P$. <br>\n",
        "$\\rightarrow$ $R$ is not a requested output, but it can be used as an additional information at training time!"
      ]
    },
    {
      "cell_type": "markdown",
      "id": "daa786e2",
      "metadata": {
        "id": "daa786e2"
      },
      "source": [
        "## Dataset Statistics\n",
        "\n",
        "* **127k** QA pairs.\n",
        "* **8k** conversations.\n",
        "* **7** diverse domains: Children's Stories, Literature, Mid/High School Exams, News, Wikipedia, Reddit, Science.\n",
        "* Average conversation length: **15 turns** (i.e., QA pairs).\n",
        "* Almost **half** of CoQA questions refer back to **conversational history**.\n",
        "* Only **train** and **validation** sets are available."
      ]
    },
    {
      "cell_type": "markdown",
      "id": "d26d68b7",
      "metadata": {
        "id": "d26d68b7"
      },
      "source": [
        "## Dataset snippet\n",
        "\n",
        "The dataset is stored in JSON format. Each dialogue is represented as follows:\n",
        "\n",
        "```\n",
        "{\n",
        "    \"source\": \"mctest\",\n",
        "    \"id\": \"3dr23u6we5exclen4th8uq9rb42tel\",\n",
        "    \"filename\": \"mc160.test.41\",\n",
        "    \"story\": \"Once upon a time, in a barn near a farm house, there lived a little white kitten named Cotton. \n",
        "    Cotton lived high up in a nice warm place above the barn where all of the farmer's horses slept. [...]\" % <-- $P$\n",
        "    \"questions\": [\n",
        "        {\n",
        "            \"input_text\": \"What color was Cotton?\",   % <-- $Q_1$\n",
        "            \"turn_id\": 1\n",
        "        },\n",
        "        {\n",
        "            \"input_text\": \"Where did she live?\",\n",
        "            \"turn_id\": 2\n",
        "        },\n",
        "        [...]\n",
        "    ],\n",
        "    \"answers\": [\n",
        "        {\n",
        "            \"span_start\": 59,   % <-- $R_1$ start index\n",
        "            \"spand_end\": 93,    % <-- $R_1$ end index\n",
        "            \"span_text\": \"a little white kitten named Cotton\",   % <-- $R_1$\n",
        "            \"input_text\" \"white\",   % <-- $A_1$      \n",
        "            \"turn_id\": 1\n",
        "        },\n",
        "        [...]\n",
        "    ]\n",
        "}\n",
        "```"
      ]
    },
    {
      "cell_type": "markdown",
      "id": "72c7558c",
      "metadata": {
        "id": "72c7558c"
      },
      "source": [
        "### Simplifications\n",
        "\n",
        "Each dialogue also contains an additional field ```additional_answers```. For simplicity, we **ignore** this field and only consider one groundtruth answer $A$ and text rationale $R$.\n",
        "\n",
        "CoQA only contains 1.3% of unanswerable questions. For simplicity, we **ignore** those QA pairs."
      ]
    },
    {
      "cell_type": "markdown",
      "id": "e01cdad7",
      "metadata": {
        "id": "e01cdad7"
      },
      "source": [
        "## [Task 1] Remove unaswerable QA pairs\n",
        "\n",
        "Write your own script to remove unaswerable QA pairs from both train and validation sets."
      ]
    },
    {
      "cell_type": "markdown",
      "id": "f6643e14",
      "metadata": {
        "id": "f6643e14"
      },
      "source": [
        "## Dataset Download\n"
      ]
    },
    {
      "cell_type": "code",
      "execution_count": 1,
      "id": "358bac70",
      "metadata": {
        "id": "358bac70"
      },
      "outputs": [],
      "source": [
        "import os\n",
        "import urllib.request\n",
        "from tqdm import tqdm\n",
        "\n",
        "class DownloadProgressBar(tqdm):\n",
        "    def update_to(self, b=1, bsize=1, tsize=None):\n",
        "        if tsize is not None:\n",
        "            self.total = tsize\n",
        "        self.update(b * bsize - self.n)\n",
        "        \n",
        "def download_url(url, output_path):\n",
        "    with DownloadProgressBar(unit='B', unit_scale=True,\n",
        "                             miniters=1, desc=url.split('/')[-1]) as t:\n",
        "        urllib.request.urlretrieve(url, filename=output_path, reporthook=t.update_to)\n",
        "\n",
        "def download_data(data_path, url_path, suffix):    \n",
        "    if not os.path.exists(data_path):\n",
        "        os.makedirs(data_path)\n",
        "        \n",
        "    data_path = os.path.join(data_path, f'{suffix}.json')\n",
        "\n",
        "    if not os.path.exists(data_path):\n",
        "        print(f\"Downloading CoQA {suffix} data split... (it may take a while)\")\n",
        "        download_url(url=url_path, output_path=data_path)\n",
        "        print(\"Download completed!\")"
      ]
    },
    {
      "cell_type": "code",
      "execution_count": 2,
      "id": "5f6ab3ff",
      "metadata": {
        "colab": {
          "base_uri": "https://localhost:8080/"
        },
        "id": "5f6ab3ff",
        "outputId": "73f9aaab-2b0a-411e-e25e-77c1cf71ba24"
      },
      "outputs": [
        {
          "output_type": "stream",
          "name": "stdout",
          "text": [
            "Downloading CoQA train data split... (it may take a while)\n"
          ]
        },
        {
          "output_type": "stream",
          "name": "stderr",
          "text": [
            "coqa-train-v1.0.json: 49.0MB [00:04, 9.96MB/s]                            \n"
          ]
        },
        {
          "output_type": "stream",
          "name": "stdout",
          "text": [
            "Download completed!\n",
            "Downloading CoQA test data split... (it may take a while)\n"
          ]
        },
        {
          "output_type": "stream",
          "name": "stderr",
          "text": [
            "coqa-dev-v1.0.json: 9.09MB [00:00, 23.7MB/s]                            "
          ]
        },
        {
          "output_type": "stream",
          "name": "stdout",
          "text": [
            "Download completed!\n"
          ]
        },
        {
          "output_type": "stream",
          "name": "stderr",
          "text": [
            "\n"
          ]
        }
      ],
      "source": [
        "# Train data\n",
        "train_url = \"https://nlp.stanford.edu/data/coqa/coqa-train-v1.0.json\"\n",
        "download_data(data_path='coqa', url_path=train_url, suffix='train')\n",
        "\n",
        "# Test data\n",
        "test_url = \"https://nlp.stanford.edu/data/coqa/coqa-dev-v1.0.json\"\n",
        "download_data(data_path='coqa', url_path=test_url, suffix='test')  # <-- Why test? See next slides for an answer!"
      ]
    },
    {
      "cell_type": "code",
      "execution_count": 3,
      "id": "L79zPUWxljn7",
      "metadata": {
        "colab": {
          "base_uri": "https://localhost:8080/"
        },
        "id": "L79zPUWxljn7",
        "outputId": "9532d5d0-d045-47e5-8dd5-32e90c79215d"
      },
      "outputs": [
        {
          "output_type": "stream",
          "name": "stdout",
          "text": [
            "Looking in indexes: https://pypi.org/simple, https://us-python.pkg.dev/colab-wheels/public/simple/\n",
            "Collecting transformers\n",
            "  Downloading transformers-4.25.1-py3-none-any.whl (5.8 MB)\n",
            "\u001b[K     |████████████████████████████████| 5.8 MB 6.0 MB/s \n",
            "\u001b[?25hRequirement already satisfied: pyyaml>=5.1 in /usr/local/lib/python3.8/dist-packages (from transformers) (6.0)\n",
            "Requirement already satisfied: requests in /usr/local/lib/python3.8/dist-packages (from transformers) (2.23.0)\n",
            "Requirement already satisfied: regex!=2019.12.17 in /usr/local/lib/python3.8/dist-packages (from transformers) (2022.6.2)\n",
            "Requirement already satisfied: tqdm>=4.27 in /usr/local/lib/python3.8/dist-packages (from transformers) (4.64.1)\n",
            "Collecting tokenizers!=0.11.3,<0.14,>=0.11.1\n",
            "  Downloading tokenizers-0.13.2-cp38-cp38-manylinux_2_17_x86_64.manylinux2014_x86_64.whl (7.6 MB)\n",
            "\u001b[K     |████████████████████████████████| 7.6 MB 51.3 MB/s \n",
            "\u001b[?25hRequirement already satisfied: packaging>=20.0 in /usr/local/lib/python3.8/dist-packages (from transformers) (21.3)\n",
            "Requirement already satisfied: filelock in /usr/local/lib/python3.8/dist-packages (from transformers) (3.8.2)\n",
            "Requirement already satisfied: numpy>=1.17 in /usr/local/lib/python3.8/dist-packages (from transformers) (1.21.6)\n",
            "Collecting huggingface-hub<1.0,>=0.10.0\n",
            "  Downloading huggingface_hub-0.11.1-py3-none-any.whl (182 kB)\n",
            "\u001b[K     |████████████████████████████████| 182 kB 75.9 MB/s \n",
            "\u001b[?25hRequirement already satisfied: typing-extensions>=3.7.4.3 in /usr/local/lib/python3.8/dist-packages (from huggingface-hub<1.0,>=0.10.0->transformers) (4.4.0)\n",
            "Requirement already satisfied: pyparsing!=3.0.5,>=2.0.2 in /usr/local/lib/python3.8/dist-packages (from packaging>=20.0->transformers) (3.0.9)\n",
            "Requirement already satisfied: urllib3!=1.25.0,!=1.25.1,<1.26,>=1.21.1 in /usr/local/lib/python3.8/dist-packages (from requests->transformers) (1.24.3)\n",
            "Requirement already satisfied: idna<3,>=2.5 in /usr/local/lib/python3.8/dist-packages (from requests->transformers) (2.10)\n",
            "Requirement already satisfied: certifi>=2017.4.17 in /usr/local/lib/python3.8/dist-packages (from requests->transformers) (2022.12.7)\n",
            "Requirement already satisfied: chardet<4,>=3.0.2 in /usr/local/lib/python3.8/dist-packages (from requests->transformers) (3.0.4)\n",
            "Installing collected packages: tokenizers, huggingface-hub, transformers\n",
            "Successfully installed huggingface-hub-0.11.1 tokenizers-0.13.2 transformers-4.25.1\n"
          ]
        }
      ],
      "source": [
        "# Install transformers package\n",
        "!pip install transformers\n",
        "\n",
        "# Import libraries\n",
        "import json\n",
        "import pandas as pd\n",
        "import random\n",
        "import torch\n",
        "from torch.utils.data import DataLoader\n",
        "from torch.optim import AdamW"
      ]
    },
    {
      "cell_type": "code",
      "execution_count": 4,
      "id": "pOy50nGAx_O-",
      "metadata": {
        "colab": {
          "base_uri": "https://localhost:8080/"
        },
        "id": "pOy50nGAx_O-",
        "outputId": "f7e4405d-d507-4203-a695-04dc61a83d22"
      },
      "outputs": [
        {
          "output_type": "stream",
          "name": "stdout",
          "text": [
            "Training and validation unaswerable stats:\n",
            "Training and validation stories with all unaswerable questions are: 6 vs. a total number of stories of 7199 : 0.08  %\n",
            "Test q/a pairs with unaswerable questions are: 1362 vs. a total number of q/a pairs of 108647 : 1.25  %\n",
            "\n",
            "Test unaswerable stats:\n",
            "Test stories with all unaswerable questions are: 2 vs. a total number of stories of 500 : 0.4  %\n",
            "Test q/a pairs with unaswerable questions are: 92 vs. a total number of q/a pairs of 7421 : 1.24  %\n",
            "\n",
            "Please note: the requirement is to split trainig and validation at story level (not q/a)\n",
            "therefore counts at story level will be used to compute properly the 80-20 split\n",
            "While the checks required to exclude unaswerable q/a pairs will be done at each q/a pairs level\n"
          ]
        }
      ],
      "source": [
        "# Store unknown IDs in a list to exclude them during the creation of the training, validation and test datasets\n",
        "# Training\n",
        "train_data_json = open('./coqa/train.json')\n",
        "train_data = json.load(train_data_json)\n",
        "train_val_tot = len(train_data['data'])\n",
        "train_val_tot_q = 0\n",
        "train_val_cnt = 0      \n",
        "train_val_cnt_q = 0\n",
        "idx_un_train = []\n",
        "idx_un_test = []\n",
        "\n",
        "for idx in range(train_val_tot):\n",
        "    all_unasnwered = True\n",
        "    for x in range(0,len(train_data['data'][idx]['questions'])): # If at least one answer is answerable store it in the training lists\n",
        "      train_val_tot_q += 1\n",
        "      if train_data['data'][idx]['answers'][x]['span_text'] != 'unknown':\n",
        "        all_unasnwered = False\n",
        "        train_val_cnt_q += 1      \n",
        "    if all_unasnwered:\n",
        "      idx_un_train.append(idx) # store the story idx so to exclude it from further processing and from the 80-20 split computation\n",
        "    else: # if the story at least one answerable question store the idx in the training story list     \n",
        "      train_val_cnt += 1\n",
        "      \n",
        "cnt_un_train_val = train_val_tot - train_val_cnt\n",
        "\n",
        "percentage = round((100 * (cnt_un_train_val / train_val_tot)),2)\n",
        "percentage_q = round((100 * ((train_val_tot_q - train_val_cnt_q) / train_val_tot_q)),2)\n",
        "\n",
        "print(\"Training and validation unaswerable stats:\")\n",
        "print(\"Training and validation stories with all unaswerable questions are:\",cnt_un_train_val,\"vs. a total number of stories of\",train_val_tot,\":\",percentage,\" %\")\n",
        "print(\"Test q/a pairs with unaswerable questions are:\",(train_val_tot_q - train_val_cnt_q),\"vs. a total number of q/a pairs of\",train_val_tot_q,\":\",percentage_q,\" %\")\n",
        "\n",
        "# Test\n",
        "test_data_json = open('./coqa/test.json')\n",
        "test_data = json.load(test_data_json)\n",
        "test_tot = len(test_data['data'])\n",
        "test_cnt = 0      \n",
        "test_cnt_q = 0\n",
        "test_tot_q = 0      \n",
        "\n",
        "for idx in range(0,len(test_data['data'])):\n",
        "    all_unasnwered = True\n",
        "    for x in range(0,len(train_data['data'][idx]['questions'])): # If at least one answer is answerable store it in the training lists\n",
        "      test_tot_q += 1\n",
        "      if train_data['data'][idx]['answers'][x]['span_text'] != 'unknown':\n",
        "        all_unasnwered = False\n",
        "        test_cnt_q += 1      \n",
        "    if all_unasnwered:\n",
        "      idx_un_test.append(idx) # store the story idx so to exclude it from further processing and from the 80-20 split computation\n",
        "    else: # if the story at least one answerable question store the idx in the training story list     \n",
        "      test_cnt += 1\n",
        "      \n",
        "cnt_un_test = test_tot - test_cnt\n",
        "\n",
        "percentage = round((100 * (cnt_un_test / test_tot)),2)\n",
        "percentage_q = round((100 * ((test_tot_q - test_cnt_q) / test_tot_q)),2)\n",
        "\n",
        "print(\"\\nTest unaswerable stats:\")\n",
        "print(\"Test stories with all unaswerable questions are:\",cnt_un_test,\"vs. a total number of stories of\",test_tot,\":\",percentage,\" %\")\n",
        "print(\"Test q/a pairs with unaswerable questions are:\",(test_tot_q - test_cnt_q),\"vs. a total number of q/a pairs of\",test_tot_q,\":\",percentage_q,\" %\")\n",
        "\n",
        "print(\"\\nPlease note: the requirement is to split trainig and validation at story level (not q/a)\")\n",
        "print(\"therefore counts at story level will be used to compute properly the 80-20 split\")\n",
        "print(\"While the checks required to exclude unaswerable q/a pairs will be done at each q/a pairs level\")"
      ]
    },
    {
      "cell_type": "markdown",
      "id": "40e42311",
      "metadata": {
        "id": "40e42311"
      },
      "source": [
        "#### Data Inspection\n",
        "\n",
        "Spend some time in checking accurately the dataset format and how to retrieve the tasks' inputs and outputs!"
      ]
    },
    {
      "cell_type": "code",
      "execution_count": 5,
      "id": "vLiH4tnVpGDm",
      "metadata": {
        "colab": {
          "base_uri": "https://localhost:8080/",
          "height": 1000
        },
        "id": "vLiH4tnVpGDm",
        "outputId": "5d7225e1-0420-465e-9520-60fe2fe81679"
      },
      "outputs": [
        {
          "output_type": "stream",
          "name": "stdout",
          "text": [
            "Training Dataframe shape\n",
            " (7199, 2)\n",
            "\n",
            "Example of one dataframe row:\n",
            " version                                                    1\n",
            "data       {'source': 'gutenberg', 'id': '3bdcf01ogxu7zdn...\n",
            "Name: 2, dtype: object\n",
            "\n",
            "Data dictionary keys\n",
            " dict_keys(['source', 'id', 'filename', 'story', 'questions', 'answers', 'name']) \n",
            "\n",
            "\n",
            "Story\n",
            " CHAPTER VII. THE DAUGHTER OF WITHERSTEEN \n",
            "\n",
            "\"Lassiter, will you be my rider?\" Jane had asked him. \n",
            "\n",
            "\"I reckon so,\" he had replied. \n",
            "\n",
            "Few as the words were, Jane knew how infinitely much they implied. She wanted him to take charge of her cattle and horse and ranges, and save them if that were possible. Yet, though she could not have spoken aloud all she meant, she was perfectly honest with herself. Whatever the price to be paid, she must keep Lassiter close to her; she must shield from him the man who had led Milly Erne to Cottonwoods. In her fear she so controlled her mind that she did not whisper this Mormon's name to her own soul, she did not even think it. Besides, beyond this thing she regarded as a sacred obligation thrust upon her, was the need of a helper, of a friend, of a champion in this critical time. If she could rule this gun-man, as Venters had called him, if she could even keep him from shedding blood, what strategy to play his flame and his presence against the game of oppression her churchmen were waging against her? Never would she forget the effect on Tull and his men when Venters shouted Lassiter's name. If she could not wholly control Lassiter, then what she could do might put off the fatal day. \n",
            "\n",
            "One of her safe racers was a dark bay, and she called him Bells because of the way he struck his iron shoes on the stones. When Jerd led out this slender, beautifully built horse Lassiter suddenly became all eyes. A rider's love of a thoroughbred shone in them. Round and round Bells he walked, plainly weakening all the time in his determination not to take one of Jane's favorite racers.  \n",
            "\n",
            "\n",
            "Questions\n",
            " [{'input_text': 'What did Venters call Lassiter?', 'turn_id': 1}, {'input_text': 'Who asked Lassiter to be their rider?', 'turn_id': 2}, {'input_text': 'Did he agree?', 'turn_id': 3}, {'input_text': 'Why did she ask him?', 'turn_id': 4}, {'input_text': 'Did she tell him as much?', 'turn_id': 5}, {'input_text': 'What was she willing to give up?', 'turn_id': 6}, {'input_text': 'Where was Milly led to?', 'turn_id': 7}, {'input_text': 'Who took her there?', 'turn_id': 8}, {'input_text': 'Whose name would Jane not speak?', 'turn_id': 9}, {'input_text': 'Did she allow herself to even think it?', 'turn_id': 10}, {'input_text': 'What was Jane hoping Lassiter would become to her?', 'turn_id': 11}, {'input_text': 'Who was oppressing her?', 'turn_id': 12}, {'input_text': 'What was she hoping she could keep from happening to him?', 'turn_id': 13}, {'input_text': \"Who had shouted Lassiter's name?\", 'turn_id': 14}, {'input_text': 'Who did that affect?', 'turn_id': 15}, {'input_text': 'Did Jane think she could control Lassiter?', 'turn_id': 16}, {'input_text': 'Who is Bells?', 'turn_id': 17}, {'input_text': 'How did he get his name?', 'turn_id': 18}, {'input_text': 'Was Lassiter impressed with the horse?', 'turn_id': 19}, {'input_text': 'Did he want to take him for himself?', 'turn_id': 20}] \n",
            "\n",
            "\n",
            "Answers\n",
            " [{'span_start': 841, 'span_end': 880, 'span_text': 'this gun-man, as Venters had called him', 'input_text': 'gun-man', 'turn_id': 1}, {'span_start': 43, 'span_end': 97, 'span_text': '\"Lassiter, will you be my rider?\" Jane had asked him. ', 'input_text': 'Jane', 'turn_id': 2}, {'span_start': 99, 'span_end': 129, 'span_text': '\"I reckon so,\" he had replied.', 'input_text': 'Yes', 'turn_id': 3}, {'span_start': 199, 'span_end': 301, 'span_text': 'She wanted him to take charge of her cattle and horse and ranges, and save them if that were possible.', 'input_text': 'to take charge of her cattle and horse and ranges, and save them', 'turn_id': 4}, {'span_start': 307, 'span_end': 360, 'span_text': 'though she could not have spoken aloud all she meant,', 'input_text': 'No', 'turn_id': 5}, {'span_start': 400, 'span_end': 429, 'span_text': 'Whatever the price to be paid', 'input_text': 'Whatever the price to be paid', 'turn_id': 6}, {'span_start': 509, 'span_end': 538, 'span_text': 'led Milly Erne to Cottonwoods', 'input_text': 'Cottonwoods', 'turn_id': 7}, {'span_start': 493, 'span_end': 538, 'span_text': 'the man who had led Milly Erne to Cottonwoods', 'input_text': 'A man', 'turn_id': 8}, {'span_start': 604, 'span_end': 622, 'span_text': \"this Mormon's name\", 'input_text': \"this Mormon's name\", 'turn_id': 9}, {'span_start': 640, 'span_end': 666, 'span_text': 'she did not even think it.', 'input_text': 'No', 'turn_id': 10}, {'span_start': 751, 'span_end': 798, 'span_text': 'the need of a helper, of a friend, of a champio', 'input_text': 'a helper, of a friend, of a champion', 'turn_id': 11}, {'span_start': 991, 'span_end': 1047, 'span_text': 'game of oppression her churchmen were waging against her', 'input_text': 'her churchmen', 'turn_id': 12}, {'span_start': 885, 'span_end': 928, 'span_text': 'she could even keep him from shedding blood', 'input_text': 'shedding blood', 'turn_id': 13}, {'span_start': 1108, 'span_end': 1140, 'span_text': \"Venters shouted Lassiter's name.\", 'input_text': 'Venters', 'turn_id': 14}, {'span_start': 1071, 'span_end': 1140, 'span_text': \" the effect on Tull and his men when Venters shouted Lassiter's name.\", 'input_text': 'Tull and his men', 'turn_id': 15}, {'span_start': 1141, 'span_end': 1205, 'span_text': 'If she could not wholly control Lassiter, then what she could do', 'input_text': 'No', 'turn_id': 16}, {'span_start': 1237, 'span_end': 1300, 'span_text': 'One of her safe racers was a dark bay, and she called him Bells', 'input_text': 'One of her safe racers', 'turn_id': 17}, {'span_start': 1280, 'span_end': 1360, 'span_text': 'she called him Bells because of the way he struck his iron shoes on the stones. ', 'input_text': 'because of the way he struck his iron shoes on the stones.', 'turn_id': 18}, {'span_start': 1360, 'span_end': 1450, 'span_text': 'When Jerd led out this slender, beautifully built horse Lassiter suddenly became all eyes.', 'input_text': 'Yes', 'turn_id': 19}, {'span_start': 1532, 'span_end': 1625, 'span_text': \"plainly weakening all the time in his determination not to take one of Jane's favorite racers\", 'input_text': 'Yes', 'turn_id': 20}] \n",
            "\n"
          ]
        },
        {
          "output_type": "execute_result",
          "data": {
            "text/plain": [
              "   version                                               data\n",
              "0        1  {'source': 'wikipedia', 'id': '3zotghdk5ibi9ce...\n",
              "1        1  {'source': 'cnn', 'id': '3wj1oxy92agboo5nlq4r7...\n",
              "2        1  {'source': 'gutenberg', 'id': '3bdcf01ogxu7zdn...\n",
              "3        1  {'source': 'cnn', 'id': '3ewijtffvo7wwchw6rtya...\n",
              "4        1  {'source': 'gutenberg', 'id': '3urfvvm165iantk...\n",
              "5        1  {'source': 'race', 'id': '3ftf2t8wlri896r0rn6x...\n",
              "6        1  {'source': 'cnn', 'id': '3qemnnsb2xz5mh3gvv3nj...\n",
              "7        1  {'source': 'race', 'id': '369j354ofdapu1z2ebz3...\n",
              "8        1  {'source': 'race', 'id': '3v0z7ywsiy0kux6wg4mm...\n",
              "9        1  {'source': 'wikipedia', 'id': '3v5q80fxixr0io4..."
            ],
            "text/html": [
              "\n",
              "  <div id=\"df-920f4e05-7367-46d9-bf3d-b02e23e39e11\">\n",
              "    <div class=\"colab-df-container\">\n",
              "      <div>\n",
              "<style scoped>\n",
              "    .dataframe tbody tr th:only-of-type {\n",
              "        vertical-align: middle;\n",
              "    }\n",
              "\n",
              "    .dataframe tbody tr th {\n",
              "        vertical-align: top;\n",
              "    }\n",
              "\n",
              "    .dataframe thead th {\n",
              "        text-align: right;\n",
              "    }\n",
              "</style>\n",
              "<table border=\"1\" class=\"dataframe\">\n",
              "  <thead>\n",
              "    <tr style=\"text-align: right;\">\n",
              "      <th></th>\n",
              "      <th>version</th>\n",
              "      <th>data</th>\n",
              "    </tr>\n",
              "  </thead>\n",
              "  <tbody>\n",
              "    <tr>\n",
              "      <th>0</th>\n",
              "      <td>1</td>\n",
              "      <td>{'source': 'wikipedia', 'id': '3zotghdk5ibi9ce...</td>\n",
              "    </tr>\n",
              "    <tr>\n",
              "      <th>1</th>\n",
              "      <td>1</td>\n",
              "      <td>{'source': 'cnn', 'id': '3wj1oxy92agboo5nlq4r7...</td>\n",
              "    </tr>\n",
              "    <tr>\n",
              "      <th>2</th>\n",
              "      <td>1</td>\n",
              "      <td>{'source': 'gutenberg', 'id': '3bdcf01ogxu7zdn...</td>\n",
              "    </tr>\n",
              "    <tr>\n",
              "      <th>3</th>\n",
              "      <td>1</td>\n",
              "      <td>{'source': 'cnn', 'id': '3ewijtffvo7wwchw6rtya...</td>\n",
              "    </tr>\n",
              "    <tr>\n",
              "      <th>4</th>\n",
              "      <td>1</td>\n",
              "      <td>{'source': 'gutenberg', 'id': '3urfvvm165iantk...</td>\n",
              "    </tr>\n",
              "    <tr>\n",
              "      <th>5</th>\n",
              "      <td>1</td>\n",
              "      <td>{'source': 'race', 'id': '3ftf2t8wlri896r0rn6x...</td>\n",
              "    </tr>\n",
              "    <tr>\n",
              "      <th>6</th>\n",
              "      <td>1</td>\n",
              "      <td>{'source': 'cnn', 'id': '3qemnnsb2xz5mh3gvv3nj...</td>\n",
              "    </tr>\n",
              "    <tr>\n",
              "      <th>7</th>\n",
              "      <td>1</td>\n",
              "      <td>{'source': 'race', 'id': '369j354ofdapu1z2ebz3...</td>\n",
              "    </tr>\n",
              "    <tr>\n",
              "      <th>8</th>\n",
              "      <td>1</td>\n",
              "      <td>{'source': 'race', 'id': '3v0z7ywsiy0kux6wg4mm...</td>\n",
              "    </tr>\n",
              "    <tr>\n",
              "      <th>9</th>\n",
              "      <td>1</td>\n",
              "      <td>{'source': 'wikipedia', 'id': '3v5q80fxixr0io4...</td>\n",
              "    </tr>\n",
              "  </tbody>\n",
              "</table>\n",
              "</div>\n",
              "      <button class=\"colab-df-convert\" onclick=\"convertToInteractive('df-920f4e05-7367-46d9-bf3d-b02e23e39e11')\"\n",
              "              title=\"Convert this dataframe to an interactive table.\"\n",
              "              style=\"display:none;\">\n",
              "        \n",
              "  <svg xmlns=\"http://www.w3.org/2000/svg\" height=\"24px\"viewBox=\"0 0 24 24\"\n",
              "       width=\"24px\">\n",
              "    <path d=\"M0 0h24v24H0V0z\" fill=\"none\"/>\n",
              "    <path d=\"M18.56 5.44l.94 2.06.94-2.06 2.06-.94-2.06-.94-.94-2.06-.94 2.06-2.06.94zm-11 1L8.5 8.5l.94-2.06 2.06-.94-2.06-.94L8.5 2.5l-.94 2.06-2.06.94zm10 10l.94 2.06.94-2.06 2.06-.94-2.06-.94-.94-2.06-.94 2.06-2.06.94z\"/><path d=\"M17.41 7.96l-1.37-1.37c-.4-.4-.92-.59-1.43-.59-.52 0-1.04.2-1.43.59L10.3 9.45l-7.72 7.72c-.78.78-.78 2.05 0 2.83L4 21.41c.39.39.9.59 1.41.59.51 0 1.02-.2 1.41-.59l7.78-7.78 2.81-2.81c.8-.78.8-2.07 0-2.86zM5.41 20L4 18.59l7.72-7.72 1.47 1.35L5.41 20z\"/>\n",
              "  </svg>\n",
              "      </button>\n",
              "      \n",
              "  <style>\n",
              "    .colab-df-container {\n",
              "      display:flex;\n",
              "      flex-wrap:wrap;\n",
              "      gap: 12px;\n",
              "    }\n",
              "\n",
              "    .colab-df-convert {\n",
              "      background-color: #E8F0FE;\n",
              "      border: none;\n",
              "      border-radius: 50%;\n",
              "      cursor: pointer;\n",
              "      display: none;\n",
              "      fill: #1967D2;\n",
              "      height: 32px;\n",
              "      padding: 0 0 0 0;\n",
              "      width: 32px;\n",
              "    }\n",
              "\n",
              "    .colab-df-convert:hover {\n",
              "      background-color: #E2EBFA;\n",
              "      box-shadow: 0px 1px 2px rgba(60, 64, 67, 0.3), 0px 1px 3px 1px rgba(60, 64, 67, 0.15);\n",
              "      fill: #174EA6;\n",
              "    }\n",
              "\n",
              "    [theme=dark] .colab-df-convert {\n",
              "      background-color: #3B4455;\n",
              "      fill: #D2E3FC;\n",
              "    }\n",
              "\n",
              "    [theme=dark] .colab-df-convert:hover {\n",
              "      background-color: #434B5C;\n",
              "      box-shadow: 0px 1px 3px 1px rgba(0, 0, 0, 0.15);\n",
              "      filter: drop-shadow(0px 1px 2px rgba(0, 0, 0, 0.3));\n",
              "      fill: #FFFFFF;\n",
              "    }\n",
              "  </style>\n",
              "\n",
              "      <script>\n",
              "        const buttonEl =\n",
              "          document.querySelector('#df-920f4e05-7367-46d9-bf3d-b02e23e39e11 button.colab-df-convert');\n",
              "        buttonEl.style.display =\n",
              "          google.colab.kernel.accessAllowed ? 'block' : 'none';\n",
              "\n",
              "        async function convertToInteractive(key) {\n",
              "          const element = document.querySelector('#df-920f4e05-7367-46d9-bf3d-b02e23e39e11');\n",
              "          const dataTable =\n",
              "            await google.colab.kernel.invokeFunction('convertToInteractive',\n",
              "                                                     [key], {});\n",
              "          if (!dataTable) return;\n",
              "\n",
              "          const docLinkHtml = 'Like what you see? Visit the ' +\n",
              "            '<a target=\"_blank\" href=https://colab.research.google.com/notebooks/data_table.ipynb>data table notebook</a>'\n",
              "            + ' to learn more about interactive tables.';\n",
              "          element.innerHTML = '';\n",
              "          dataTable['output_type'] = 'display_data';\n",
              "          await google.colab.output.renderOutput(dataTable, element);\n",
              "          const docLink = document.createElement('div');\n",
              "          docLink.innerHTML = docLinkHtml;\n",
              "          element.appendChild(docLink);\n",
              "        }\n",
              "      </script>\n",
              "    </div>\n",
              "  </div>\n",
              "  "
            ]
          },
          "metadata": {},
          "execution_count": 5
        }
      ],
      "source": [
        "df_train_mockup = pd.read_json('./coqa/train.json')\n",
        "print(\"Training Dataframe shape\\n\",df_train_mockup.shape)\n",
        "print(\"\\nExample of one dataframe row:\\n\",df_train_mockup.iloc[2])\n",
        "# Focusing on 'data' column\n",
        "print(\"\\nData dictionary keys\\n\",df_train_mockup['data'].iloc[2].keys(),'\\n')\n",
        "print(\"\\nStory\\n\",df_train_mockup['data'].iloc[2]['story'],'\\n')\n",
        "print(\"\\nQuestions\\n\",df_train_mockup['data'].iloc[2]['questions'],'\\n')\n",
        "print(\"\\nAnswers\\n\",df_train_mockup['data'].iloc[2]['answers'],'\\n')\n",
        "df_train_mockup.head(10)"
      ]
    },
    {
      "cell_type": "markdown",
      "id": "f57334e0",
      "metadata": {
        "id": "f57334e0"
      },
      "source": [
        "## [Task 2] Train, Validation and Test splits\n",
        "\n",
        "CoQA only provides a train and validation set since the test set is hidden for evaluation purposes.\n",
        "\n",
        "We'll consider the provided validation set as a test set. <br>\n",
        "$\\rightarrow$ Write your own script to:\n",
        "* Split the train data in train and validation splits (80% train and 20% val)\n",
        "* Perform splits such that a dialogue appears in one split only! (i.e., split at dialogue level)\n",
        "* Perform splitting using the following seed for reproducibility: 42\n",
        "\n",
        "#### Reproducibility Memo\n",
        "\n",
        "Check back tutorial 2 on how to fix a specific random seed for reproducibility!"
      ]
    },
    {
      "cell_type": "code",
      "execution_count": 6,
      "id": "u4flu4pyhfpn",
      "metadata": {
        "id": "u4flu4pyhfpn"
      },
      "outputs": [],
      "source": [
        "# Generate training and validation dialogues and corresponding Q/A dataset splits accordingly to 80/20 ratio\n",
        "# excluding dialogues with unaswered questions\n",
        "# To avoid introducing bias across epochs, select randomly the dialogues\n",
        "# Selection starts from stories, and then corresponding Q/A are selected to ensure the split between training and validation is done at dialogue level\n",
        "\n",
        "# Initialization\n",
        "random.seed(42)\n",
        "train_split = 0.8\n",
        "val_split = 1-train_split\n",
        "\n",
        "train_idx = []\n",
        "train_ukn = []\n",
        "train_id = []\n",
        "train_story = []\n",
        "train_question = []\n",
        "train_answer_start = []\n",
        "train_answer_end = []\n",
        "\n",
        "val_id = []\n",
        "val_story = []\n",
        "val_question = []\n",
        "val_answer_start = []\n",
        "val_answer_end = []\n",
        "\n",
        "test_id = []\n",
        "test_story = []\n",
        "test_question = []\n",
        "test_answer_start = []\n",
        "test_answer_end = []\n",
        "\n",
        "train_qa = {}\n",
        "train_val_tot = len(train_data['data'])\n",
        "train_val_net_tot = train_val_tot - cnt_un_train_val\n",
        "train_rec_tot = int(train_split*train_val_net_tot)\n",
        "train_cnt = 0\n",
        "train_cnt_q = 0\n",
        "val_cnt = 0\n",
        "val_cnt_q = 0\n",
        "test_cnt = 0\n",
        "test_cnt_q = 0\n",
        "\n",
        "# Iterate over training data selecting 80% of the dialogues randomly and store them in the training story dictiornary provided \n",
        "# they do not contain unaswerable questions and that are not already present.\n",
        "# Once a dialogue is stored in the stories dictionary insert the corresponding questions in the QA training dictionary.\n",
        "# Q/A are linked to the corresponding dialogues, storing the stories ID.\n",
        "\n",
        "# Training\n",
        "end_of_train = False\n",
        "while not end_of_train: \n",
        "  idx = random.randint(0,train_val_tot) # Select a random story from training\n",
        "  if ((idx not in idx_un_train) and (idx not in train_idx)): # Check the story is not already in the training set and that it does not contain all unaswerable questions.\n",
        "    all_unasnwered = True\n",
        "    for x in range(0,len(train_data['data'][idx]['questions'])): # If at least one answer is answerable store it in the training lists\n",
        "      if train_data['data'][idx]['answers'][x]['span_text'] != 'unknown':\n",
        "        train_id.append(train_data['data'][idx]['id'])\n",
        "        train_story.append(train_data['data'][idx]['story'])\n",
        "        train_question.append(train_data['data'][idx]['questions'][x]['input_text'])\n",
        "        train_answer_start.append(train_data['data'][idx]['answers'][x]['span_start'])\n",
        "        train_answer_end.append(train_data['data'][idx]['answers'][x]['span_end'])\n",
        "        all_unasnwered = False\n",
        "        train_cnt_q += 1      \n",
        "    if not all_unasnwered: # if the story at least one answerable question store the idx in the training story list     \n",
        "      train_cnt += 1\n",
        "      train_idx.append(idx)\n",
        "  if train_cnt == train_rec_tot: end_of_train = True # Reached the target stories for training, end loop\n",
        "\n",
        "# Validation\n",
        "for idx in range(0,train_val_tot): # iterate over all stories  \n",
        "  if ((idx not in idx_un_train) and (idx not in train_idx)): # if the story has not been already marked as unanswerable or in training\n",
        "    all_unasnwered = True\n",
        "    for x in range(0,len(train_data['data'][idx]['questions'])): # If at least one answer is answerable store it in the training lists\n",
        "      if train_data['data'][idx]['answers'][x]['span_text'] != 'unknown':\n",
        "        val_id.append(train_data['data'][idx]['id'])\n",
        "        val_story.append(train_data['data'][idx]['story'])\n",
        "        val_question.append(train_data['data'][idx]['questions'][x]['input_text'])\n",
        "        val_answer_start.append(train_data['data'][idx]['answers'][x]['span_start'])\n",
        "        val_answer_end.append(train_data['data'][idx]['answers'][x]['span_end'])\n",
        "        all_unasnwered = False\n",
        "        val_cnt_q += 1      \n",
        "    if not all_unasnwered: # if the story at least one answerable question store the idx in the training story list\n",
        "      val_cnt += 1\n",
        "\n",
        "# Test\n",
        "test_tot = len(test_data['data'])\n",
        "\n",
        "for idx in range(0,test_tot): # iterate over all test stories\n",
        "  if (idx not in idx_un_test): # if the story has not been already marked as unanswerable\n",
        "    all_unasnwered = True\n",
        "    for x in range(0,len(train_data['data'][idx]['questions'])): # If at least one answer is answerable store it in the test lists\n",
        "      if train_data['data'][idx]['answers'][x]['span_text'] != 'unknown':\n",
        "        test_id.append(train_data['data'][idx]['id'])\n",
        "        test_story.append(train_data['data'][idx]['story'])\n",
        "        test_question.append(train_data['data'][idx]['questions'][x]['input_text'])\n",
        "        test_answer_start.append(train_data['data'][idx]['answers'][x]['span_start'])\n",
        "        test_answer_end.append(train_data['data'][idx]['answers'][x]['span_end'])\n",
        "        test_cnt_q += 1\n",
        "        all_unasnwered = False\n",
        "    if not all_unasnwered: # if the story at least one answerable question store the idx in the training story list\n",
        "      test_cnt += 1"
      ]
    },
    {
      "cell_type": "code",
      "execution_count": 7,
      "id": "2KRcdntD4yBJ",
      "metadata": {
        "colab": {
          "base_uri": "https://localhost:8080/"
        },
        "id": "2KRcdntD4yBJ",
        "outputId": "3d07572f-a71f-4da2-f55d-ab3c144ec4bb"
      },
      "outputs": [
        {
          "output_type": "stream",
          "name": "stdout",
          "text": [
            "Analysis of the training data\n",
            "TOT: Total dialogues in the original training repository:  7199\n",
            "UKN: Unaswerable dialogues in the original training repository:  6\n",
            "TOT - UKN: Dialogues to be split between training and validaton:  7193\n",
            "\n",
            "Training dataset\n",
            "Expected training dialogues  80.0 % of (TOT - UKN): 5754\n",
            "Actual training dialogues:  5754\n",
            "Actual training q/a pairs:  86032\n",
            "\n",
            "Validation dataset\n",
            "Expected validation dialogues:  1439\n",
            "Actual validation dialogues 1439\n",
            "Actual validation q/a pairs 21253\n",
            "\n",
            "Test dataset\n",
            "TOT: Total dialogues in the original test repository:  500\n",
            "UKN: Unaswerable dialogues in the original training repository:  2\n",
            "TOT - UKN: Dialogues to be split between training and validaton:  498\n",
            "Expected test dialogues (TOT - UKN): 498\n",
            "Actual test dialogues:  498\n",
            "Actual test q/a pairs:  7329\n"
          ]
        }
      ],
      "source": [
        "# Analysis of the training data\n",
        "print(\"Analysis of the training data\")\n",
        "print(\"TOT: Total dialogues in the original training repository: \",train_val_tot)\n",
        "print(\"UKN: Unaswerable dialogues in the original training repository: \",cnt_un_train_val)\n",
        "print(\"TOT - UKN: Dialogues to be split between training and validaton: \",(train_val_tot-cnt_un_train_val))\n",
        "# Training dataset\n",
        "print(\"\\nTraining dataset\")\n",
        "print(\"Expected training dialogues \",round((train_split*100),0),\"% of (TOT - UKN):\",int(train_split*train_val_net_tot))\n",
        "print(\"Actual training dialogues: \",train_cnt)\n",
        "print(\"Actual training q/a pairs: \",train_cnt_q)\n",
        "# Validation dataset\n",
        "print(\"\\nValidation dataset\")\n",
        "print(\"Expected validation dialogues: \",(train_val_tot-cnt_un_train_val-train_cnt))\n",
        "print(\"Actual validation dialogues\",val_cnt)\n",
        "print(\"Actual validation q/a pairs\",val_cnt_q)\n",
        "\n",
        "# Analysis of the test data\n",
        "print(\"\\nTest dataset\")\n",
        "print(\"TOT: Total dialogues in the original test repository: \",test_tot)\n",
        "print(\"UKN: Unaswerable dialogues in the original training repository: \",cnt_un_test)\n",
        "print(\"TOT - UKN: Dialogues to be split between training and validaton: \",(test_tot-cnt_un_test))\n",
        "# Test dataset\n",
        "print(\"Expected test dialogues (TOT - UKN):\",(test_tot-cnt_un_test))\n",
        "print(\"Actual test dialogues: \",test_cnt)\n",
        "print(\"Actual test q/a pairs: \",test_cnt_q)"
      ]
    },
    {
      "cell_type": "markdown",
      "id": "230a21de",
      "metadata": {
        "id": "230a21de"
      },
      "source": [
        "## [Task 3] Model definition\n",
        "\n",
        "Write your own script to define the following transformer-based models from [huggingface](https://HuggingFace.co/).\n",
        "\n",
        "* [M1] DistilRoBERTa (distilberta-base)\n",
        "* [M2] BERTTiny (bert-tiny)\n",
        "\n",
        "**Note**: Remember to install the ```transformers``` python package!\n",
        "\n",
        "**Note**: We consider small transformer models for computational reasons!"
      ]
    },
    {
      "cell_type": "code",
      "execution_count": 8,
      "id": "S0aMsAL9wxJ_",
      "metadata": {
        "id": "S0aMsAL9wxJ_"
      },
      "outputs": [],
      "source": [
        "# Tokenization function\n",
        "def tokenization(tokenizer,story,question,answer_start,answer_end,m2=False):\n",
        "  # Initialization\n",
        "  answer_start_token = []\n",
        "  answer_end_token = []\n",
        "  story_clean_none = []\n",
        "  question_clean_none = []\n",
        "  answer_start_token_clean_none = []\n",
        "  answer_end_token_clean_none = []\n",
        "  idx_none = []\n",
        "\n",
        "  #m2\n",
        "  answ = [] # this list is necessary since we have to output the answers as strings not as start/end span\n",
        "\n",
        "  # Tokenization of stories and questions \n",
        "  encodings = tokenizer(story,question,truncation=True,padding=True)\n",
        "\n",
        "  # Translate answer span start/end pointers from story text indexes to token embedding indexes \n",
        "  # managing cases where answer start/end are pointing to 'blanks'\n",
        "  for i in range(len(answer_start)):\n",
        "    answer_start_token.append(encodings.char_to_token(i,answer_start[i]))\n",
        "    if answer_start_token[-1] is None:\n",
        "      answer_start_token[-1] = encodings.char_to_token(i,answer_start[i]+1)\n",
        "    if answer_start_token[-1] is None:\n",
        "      answer_start_token[-1] = encodings.char_to_token(i,answer_start[i]+2)\n",
        "  for i in range(len(answer_end)):\n",
        "    answer_end_token.append(encodings.char_to_token(i,answer_end[i]))\n",
        "    if answer_end_token[-1] is None:\n",
        "      answer_end_token[-1] = encodings.char_to_token(i,answer_end[i]+1)\n",
        "    if answer_end_token[-1] is None:\n",
        "      answer_end_token[-1] = encodings.char_to_token(i,answer_end[i]+2)\n",
        "  \n",
        "  # Create lists skippng question/answer pairs where answer span start or span end to tokens are 'None' \n",
        "  cnt = 0\n",
        "  for i in range(len(answer_start_token)):\n",
        "    if answer_start_token[i] is None:\n",
        "      idx_none.append(i)\n",
        "  cnt = 0\n",
        "  for i in range(len(answer_end_token)):\n",
        "    if answer_end_token[i] is None:\n",
        "      idx_none.append(i)\n",
        "\n",
        "  for i in range(len(story)):\n",
        "    if i not in idx_none:\n",
        "      story_clean_none.append(story[i])\n",
        "      question_clean_none.append(question[i])\n",
        "      answer_start_token_clean_none.append(answer_start_token[i])\n",
        "      answer_end_token_clean_none.append(answer_end_token[i])\n",
        "\n",
        "  for i,_ in enumerate(story_clean_none): # ##### CHECK ##### it might be better to put the if outside the loop\n",
        "    #if m2:\n",
        "    answ.append(story_clean_none[i][answer_start_token_clean_none[i]:answer_end_token_clean_none[i]])\n",
        "  \n",
        "  # Tokenization of the cleaned up lists and adding token based start and end position\n",
        "  if m2:\n",
        "    input_encodings = tokenizer(story_clean_none, question_clean_none, return_tensors='pt', padding=True, truncation=True, max_length = 512)\n",
        "    labels = tokenizer(answ, return_tensors='pt', padding=True, truncation=True, max_length = 512)\n",
        "\n",
        "    print(\"Q/A pairs tokenized\",len(story_clean_none))\n",
        "    return(input_encodings, labels)\n",
        "\n",
        "  else:\n",
        "    encodings=tokenizer(story_clean_none,question_clean_none,truncation=True,padding=True)\n",
        "    encodings.update({'start_positions':answer_start_token_clean_none,'end_positions':answer_end_token_clean_none})\n",
        "\n",
        "    encodings.update({'answer':answ}) # CHECK\n",
        "  \n",
        "    print(\"Q/A pairs tokenized\",len(story_clean_none))\n",
        "    return(encodings)\n"
      ]
    },
    {
      "cell_type": "code",
      "execution_count": 9,
      "id": "POn9tHFyaUyU",
      "metadata": {
        "id": "POn9tHFyaUyU"
      },
      "outputs": [],
      "source": [
        "# Dataset Objects Class\n",
        "class QADastset(torch.utils.data.Dataset):\n",
        "  def __init__(self,encodings, m2=False, history=False):\n",
        "    self.encodings = encodings\n",
        "    self.m2 = m2\n",
        "    self.history = history\n",
        "  \n",
        "  # DEFINE ANOTHER CLASS FOR M2\n",
        "\n",
        "  #def __init__(self, input_encodings, labels, m2=True, history=False):\n",
        "  #  self.input_encodings = input_encodings\n",
        "  #  self.labels = labels\n",
        "  #  self.m2 = m2\n",
        "  #  self.history = history\n",
        "\n",
        "  def __getitem__(self, idx):\n",
        "    if self.m2:\n",
        "      if self.history: # to do\n",
        "        return ({key: torch.tensor(val[idx]) for key,val in self.input_encodings.items()}+{\"hist\": torch.tensor(val[:idx-1][1:]) for _,val in self.input_encodings.items()},\n",
        "                {key: torch.tensor(val[idx]) for key,val in self.labels.items()}+{\"hist\": torch.tensor(val[:idx-1][1:]) for _,val in self.encodings.items()})\n",
        "      else:\n",
        "        return ({key: torch.tensor(val[idx]) for key,val in self.input_encodings.items()}, {key: torch.tensor(val[idx]) for key,val in self.labels.items()})\n",
        "    else:\n",
        "      if self.history:\n",
        "        return {key: torch.tensor(val[idx]) for key,val in self.encodings.items()}\n",
        "        +{\"hist\": torch.tensor(val[:idx-1][1:]) for _,val in self.encodings.items()} # to check\n",
        "      else:\n",
        "        return {key: torch.tensor(val[idx]) for key,val in self.encodings.items()}\n",
        "  \n",
        "  def __len__(self):\n",
        "    if self.m2:\n",
        "      return len(self.input_encodings.input_ids)\n",
        "    else:\n",
        "      return len(self.encodings.input_ids)"
      ]
    },
    {
      "cell_type": "code",
      "execution_count": 10,
      "id": "jJP_-Gbj1igj",
      "metadata": {
        "id": "jJP_-Gbj1igj"
      },
      "outputs": [],
      "source": [
        "# define device as GPU if available\n",
        "device = torch.device('cuda') if torch.cuda.is_available() else torch.device('cpu')\n",
        "\n",
        "# initialize number of epochs\n",
        "epochs = 3"
      ]
    },
    {
      "cell_type": "code",
      "execution_count": 11,
      "id": "LsQKh7BerCIE",
      "metadata": {
        "id": "LsQKh7BerCIE"
      },
      "outputs": [],
      "source": [
        "# Model fine-tuning loop function\n",
        "def fine_tuning_model(model,dataloader,epochs):\n",
        "  # move model to device\n",
        "  model.to(device)\n",
        "\n",
        "  # define optimizer with weight decay to reduce risks of overfitting\n",
        "  opt = AdamW(model.parameters(), lr=5e-5)\n",
        "\n",
        "  for epoch in range(epochs): # per epoch training iteration\n",
        "    model.train()\n",
        "    loop = tqdm(dataloader,leave=True)\n",
        "    for batch in loop: #loop # per batch training iteration\n",
        "      opt.zero_grad()\n",
        "      \n",
        "      # pull tensor batches \n",
        "      input_ids = batch['input_ids'].to(device)\n",
        "      attention_mask = batch['attention_mask'].to(device)\n",
        "      start_positions = batch['start_positions'].to(device)\n",
        "      end_positions = batch['end_positions'].to(device)\n",
        "    \n",
        "      # train model on batch\n",
        "      output = model(input_ids,attention_mask=attention_mask,start_positions=start_positions,end_positions=end_positions)\n",
        "      \n",
        "      # retrive loss      \n",
        "      loss = output[0]\n",
        "      \n",
        "      # backward pass\n",
        "      loss.backward()\n",
        "      \n",
        "      # optimization step\n",
        "      opt.step()\n",
        "\n",
        "      # display results      \n",
        "      loop.set_description(f'Epoch {epoch}')\n",
        "      loop.set_postfix(loss=loss.item())\n",
        "      \n",
        "  return(model)"
      ]
    },
    {
      "cell_type": "code",
      "execution_count": 12,
      "id": "d-15MZ2XA0Nd",
      "metadata": {
        "colab": {
          "base_uri": "https://localhost:8080/",
          "height": 284,
          "referenced_widgets": [
            "2325f9b7b5b5416ab723063232d36389",
            "236821109d264b4ab13c1ec32b64a2fb",
            "d8f2fdf1eab448cebcbc2f1cd3d54191",
            "8b42ec66b2d24137b93b103424e8ae83",
            "818a34a5fe3749b0aa5959c09ffdecc6",
            "f1953091b3a54e7387425e6b2443c66d",
            "0574b9a2102d4c289ab1f6e9ef42cdf9",
            "5cd876b0732e44839f6f7feccbfabeb1",
            "69e954137d8f4098b280c154d2efdfac",
            "3ae986c087214fafbde52a665ef87ab6",
            "94e37e4656fd44249b7ef40d411878e7",
            "d9ca1a54664d456193ec955194a9455a",
            "979c9b46b5464cf39c424a7b7f88c2e5",
            "ebfa63956678411c95f2ecf65ce574bd",
            "c875f23785314591a84261be32ed9bac",
            "8627fc59df6447d2875ea332af3e7d0a",
            "5ac52bd1f5fd4ae9b50e0772ba7eca77",
            "2867148e49fe47c6b1ef966ac9f3339f",
            "658553c2608f441bb39ef3f8152d6352",
            "75c79507ad624a699a808b426935645d",
            "ed5f72fea5154c878e0bf75fb6d69edb",
            "0556fada832a4ab9b92dad9ffc94b105",
            "99e200e00d66438c84de99b696e063ba",
            "ed8e59d10e08430e93dca39a5ea25a06",
            "2e8ffa367ff5494c8c50c9d8677970a4",
            "6216e4039a3d4f40961027ba962526ff",
            "159fa27fe30a4ed6aa755fb1e757880a",
            "01380ef6e6514f3f8dcbee6c00131557",
            "5e9da721afa1455eabb06be859987ba9",
            "cd5592b080fc417ba2833418e89c3884",
            "fea05f0a359b49a689f2e4e33e265472",
            "dc9374d4154848959b63ef01f210ae8a",
            "0f108e4873cc426096769694328943f3",
            "603c54fe49da44ceb516758ff940635d",
            "2f5359f384d84c1387efeb5f4b574eb7",
            "6aa9da94a4d240e0ba6c9b3f7f7c490a",
            "d931ce11803846bc95175fe1f4b8036d",
            "46c36a9796a54c108d2bd885d22b6cc6",
            "bd0d0705499d44f2b0be4f88b6ce7738",
            "8a954609c1d846cd9f4c40c3f1f32d1a",
            "60725fb930e54f9681ae42390d7343d5",
            "6ce4b6adc1e4496db22efc08b8ecb060",
            "b0bbb3cefdc44be2b92d4e2618d6765a",
            "550d3ac5a2fb4e4fb5246e1029b98381",
            "845a9cb600164c878a7b28a18c5468eb",
            "6e81b4141190483498b4f39adda8068a",
            "ed5216d13ac84b1989a5450b4c21ce74",
            "4ec5d7f2836442dd86bb33d45b0100ea",
            "c4e3ee51a00a4d6faef039f9e21378e3",
            "94e19e45f49e4d758509db571e45bd32",
            "40d4bbda8fe1465298970b779834d43f",
            "bcbb5f17fd334bd6a5eb1f4901fe64c7",
            "d99aeba7aac542678a18e61eb391b293",
            "9c69f2f7864d48e2810ca498af47760a",
            "32a6ead688f0401a9a656e33131b5d76"
          ]
        },
        "id": "d-15MZ2XA0Nd",
        "outputId": "d6e6a802-3784-4455-e431-65971ee06686"
      },
      "outputs": [
        {
          "output_type": "display_data",
          "data": {
            "text/plain": [
              "Downloading:   0%|          | 0.00/29.0 [00:00<?, ?B/s]"
            ],
            "application/vnd.jupyter.widget-view+json": {
              "version_major": 2,
              "version_minor": 0,
              "model_id": "2325f9b7b5b5416ab723063232d36389"
            }
          },
          "metadata": {}
        },
        {
          "output_type": "display_data",
          "data": {
            "text/plain": [
              "Downloading:   0%|          | 0.00/213k [00:00<?, ?B/s]"
            ],
            "application/vnd.jupyter.widget-view+json": {
              "version_major": 2,
              "version_minor": 0,
              "model_id": "d9ca1a54664d456193ec955194a9455a"
            }
          },
          "metadata": {}
        },
        {
          "output_type": "display_data",
          "data": {
            "text/plain": [
              "Downloading:   0%|          | 0.00/436k [00:00<?, ?B/s]"
            ],
            "application/vnd.jupyter.widget-view+json": {
              "version_major": 2,
              "version_minor": 0,
              "model_id": "99e200e00d66438c84de99b696e063ba"
            }
          },
          "metadata": {}
        },
        {
          "output_type": "display_data",
          "data": {
            "text/plain": [
              "Downloading:   0%|          | 0.00/411 [00:00<?, ?B/s]"
            ],
            "application/vnd.jupyter.widget-view+json": {
              "version_major": 2,
              "version_minor": 0,
              "model_id": "603c54fe49da44ceb516758ff940635d"
            }
          },
          "metadata": {}
        },
        {
          "output_type": "display_data",
          "data": {
            "text/plain": [
              "Downloading:   0%|          | 0.00/263M [00:00<?, ?B/s]"
            ],
            "application/vnd.jupyter.widget-view+json": {
              "version_major": 2,
              "version_minor": 0,
              "model_id": "845a9cb600164c878a7b28a18c5468eb"
            }
          },
          "metadata": {}
        },
        {
          "output_type": "stream",
          "name": "stderr",
          "text": [
            "Some weights of the model checkpoint at distilbert-base-cased were not used when initializing DistilBertForQuestionAnswering: ['vocab_transform.bias', 'vocab_projector.bias', 'vocab_projector.weight', 'vocab_layer_norm.bias', 'vocab_layer_norm.weight', 'vocab_transform.weight']\n",
            "- This IS expected if you are initializing DistilBertForQuestionAnswering from the checkpoint of a model trained on another task or with another architecture (e.g. initializing a BertForSequenceClassification model from a BertForPreTraining model).\n",
            "- This IS NOT expected if you are initializing DistilBertForQuestionAnswering from the checkpoint of a model that you expect to be exactly identical (initializing a BertForSequenceClassification model from a BertForSequenceClassification model).\n",
            "Some weights of DistilBertForQuestionAnswering were not initialized from the model checkpoint at distilbert-base-cased and are newly initialized: ['qa_outputs.weight', 'qa_outputs.bias']\n",
            "You should probably TRAIN this model on a down-stream task to be able to use it for predictions and inference.\n"
          ]
        }
      ],
      "source": [
        "# [M1] DistilRoBERTa (distilbert-base). \n",
        "# M1 tokenizer and model definition\n",
        "from transformers import DistilBertTokenizerFast, DistilBertForQuestionAnswering\n",
        "tokenizer_M1 = DistilBertTokenizerFast.from_pretrained('distilbert-base-cased')\n",
        "M1 = DistilBertForQuestionAnswering.from_pretrained('distilbert-base-cased')\n",
        "\n",
        "# DistillRoberta. Citing:\n",
        "#  https://huggingface.co/distilroberta-base\n",
        "#  @article{Sanh2019DistilBERTAD,\n",
        "#  title={DistilBERT, a distilled version of BERT: smaller, faster, cheaper and lighter},\n",
        "#  author={Victor Sanh and Lysandre Debut and Julien Chaumond and Thomas Wolf},\n",
        "#  journal={ArXiv},\n",
        "#  year={2019},\n",
        "#  volume={abs/1910.01108}\n",
        "# }\n",
        "# Reference for code: https://towardsdatascience.com/how-to-fine-tune-a-q-a-transformer-86f91ec92997"
      ]
    },
    {
      "cell_type": "code",
      "execution_count": 13,
      "id": "OGseWtLOvHZj",
      "metadata": {
        "colab": {
          "base_uri": "https://localhost:8080/",
          "height": 324,
          "referenced_widgets": [
            "eced54b4789f451ab0c9988d6caa89b6",
            "0adea10906cd4e379ff8bc31fc1495cc",
            "8ed26f0952ce448382b4d0d10174641d",
            "41e0703ae86040618ae0579be692459e",
            "0de1a5cd618447f0b6458384d48f0ee4",
            "4a2e082ff89d4533857f9050fe0f47a9",
            "4e69dba22c4045ab98a8e21b2c02bf5d",
            "f16e454b59f54f4c99685755dca7c63d",
            "84cd2eca24c84c7da4b2a66c60728c2e",
            "289b0da3227d4e67bbe92b8dde71d5b6",
            "0d577012fde14e17822577d0a93e063a",
            "acc9ebbad66b452781cc5a133800e13b",
            "765a09d896d74c53a3f5398a814bbffb",
            "905c571a613c4a7d92e6b14ca56ca600",
            "2dba32435d404795b0308591cd45dda1",
            "dcd920d51ac4496abb1ab32c4070c1f5",
            "92ea65529e9348e29ef580dd1b93ba2e",
            "fda5f88e68b14a5f902781596a74ce72",
            "f37bf561157d4761a8064ccd1cf0277e",
            "ea4f0e47951042bf9c98d15951999718",
            "8b8286f2f979408d99e488d8edff7ea3",
            "ab5750d4162b40f8ba17a99047bf0364",
            "bdd626b648394559b67012a30ac4e122",
            "2b0f3b54375d429f95b006b0fb4d9e0f",
            "4a0cc8238053448c852cb98073057623",
            "d3a64ac71d6749aaa8f94774cb1b800e",
            "ba292592a1b2410faa6f258957f60f06",
            "b8fd54d5dd924584a2b391681f820a8d",
            "3e1ad5dd661d41fcbf71b4711d85537e",
            "3a75b1ab5cc24e45ad95ca1459e54d89",
            "1b2cd1b3b6724d12954bd7f555d907ca",
            "3a18779eca8b45bbb3d05eec41be2fc4",
            "972953ab4b2c4f43b83a0d8f7762dc18"
          ]
        },
        "id": "OGseWtLOvHZj",
        "outputId": "56d4ffd6-fcb7-4ab2-b91e-b782924be0b4"
      },
      "outputs": [
        {
          "output_type": "display_data",
          "data": {
            "text/plain": [
              "Downloading:   0%|          | 0.00/285 [00:00<?, ?B/s]"
            ],
            "application/vnd.jupyter.widget-view+json": {
              "version_major": 2,
              "version_minor": 0,
              "model_id": "eced54b4789f451ab0c9988d6caa89b6"
            }
          },
          "metadata": {}
        },
        {
          "output_type": "display_data",
          "data": {
            "text/plain": [
              "Downloading:   0%|          | 0.00/17.8M [00:00<?, ?B/s]"
            ],
            "application/vnd.jupyter.widget-view+json": {
              "version_major": 2,
              "version_minor": 0,
              "model_id": "acc9ebbad66b452781cc5a133800e13b"
            }
          },
          "metadata": {}
        },
        {
          "output_type": "stream",
          "name": "stderr",
          "text": [
            "Some weights of the model checkpoint at prajjwal1/bert-tiny were not used when initializing BertModel: ['cls.predictions.decoder.bias', 'cls.predictions.transform.dense.weight', 'cls.predictions.bias', 'cls.predictions.transform.LayerNorm.weight', 'cls.predictions.decoder.weight', 'cls.seq_relationship.weight', 'cls.predictions.transform.dense.bias', 'cls.predictions.transform.LayerNorm.bias', 'cls.seq_relationship.bias']\n",
            "- This IS expected if you are initializing BertModel from the checkpoint of a model trained on another task or with another architecture (e.g. initializing a BertForSequenceClassification model from a BertForPreTraining model).\n",
            "- This IS NOT expected if you are initializing BertModel from the checkpoint of a model that you expect to be exactly identical (initializing a BertForSequenceClassification model from a BertForSequenceClassification model).\n",
            "Some weights of the model checkpoint at prajjwal1/bert-tiny were not used when initializing BertModel: ['cls.predictions.decoder.bias', 'cls.predictions.transform.dense.weight', 'cls.predictions.bias', 'cls.predictions.transform.LayerNorm.weight', 'cls.predictions.decoder.weight', 'cls.seq_relationship.weight', 'cls.predictions.transform.dense.bias', 'cls.predictions.transform.LayerNorm.bias', 'cls.seq_relationship.bias']\n",
            "- This IS expected if you are initializing BertModel from the checkpoint of a model trained on another task or with another architecture (e.g. initializing a BertForSequenceClassification model from a BertForPreTraining model).\n",
            "- This IS NOT expected if you are initializing BertModel from the checkpoint of a model that you expect to be exactly identical (initializing a BertForSequenceClassification model from a BertForSequenceClassification model).\n",
            "Some weights of the model checkpoint at prajjwal1/bert-tiny were not used when initializing BertLMHeadModel: ['cls.seq_relationship.weight', 'cls.seq_relationship.bias']\n",
            "- This IS expected if you are initializing BertLMHeadModel from the checkpoint of a model trained on another task or with another architecture (e.g. initializing a BertForSequenceClassification model from a BertForPreTraining model).\n",
            "- This IS NOT expected if you are initializing BertLMHeadModel from the checkpoint of a model that you expect to be exactly identical (initializing a BertForSequenceClassification model from a BertForSequenceClassification model).\n",
            "Some weights of BertLMHeadModel were not initialized from the model checkpoint at prajjwal1/bert-tiny and are newly initialized: ['bert.encoder.layer.0.crossattention.self.key.weight', 'bert.encoder.layer.1.crossattention.output.LayerNorm.weight', 'bert.encoder.layer.0.crossattention.output.LayerNorm.weight', 'bert.encoder.layer.1.crossattention.output.LayerNorm.bias', 'bert.encoder.layer.0.crossattention.output.dense.bias', 'bert.encoder.layer.0.crossattention.output.dense.weight', 'bert.encoder.layer.0.crossattention.self.key.bias', 'bert.encoder.layer.1.crossattention.self.query.weight', 'bert.encoder.layer.1.crossattention.self.query.bias', 'bert.encoder.layer.0.crossattention.self.query.bias', 'bert.encoder.layer.1.crossattention.output.dense.weight', 'bert.encoder.layer.0.crossattention.output.LayerNorm.bias', 'bert.encoder.layer.0.crossattention.self.value.bias', 'bert.encoder.layer.0.crossattention.self.value.weight', 'bert.encoder.layer.1.crossattention.self.value.weight', 'bert.encoder.layer.1.crossattention.self.key.bias', 'bert.encoder.layer.1.crossattention.output.dense.bias', 'bert.encoder.layer.1.crossattention.self.key.weight', 'bert.encoder.layer.0.crossattention.self.query.weight', 'bert.encoder.layer.1.crossattention.self.value.bias']\n",
            "You should probably TRAIN this model on a down-stream task to be able to use it for predictions and inference.\n"
          ]
        },
        {
          "output_type": "display_data",
          "data": {
            "text/plain": [
              "Downloading:   0%|          | 0.00/232k [00:00<?, ?B/s]"
            ],
            "application/vnd.jupyter.widget-view+json": {
              "version_major": 2,
              "version_minor": 0,
              "model_id": "bdd626b648394559b67012a30ac4e122"
            }
          },
          "metadata": {}
        }
      ],
      "source": [
        "# [M2] BERTTiny (bert-tiny)\n",
        "# M2 tokenizer and model definition\n",
        "from transformers import AutoModel, AutoTokenizer, EncoderDecoderModel\n",
        "model_name = \"prajjwal1/bert-tiny\"\n",
        "\n",
        "M2 = AutoModel.from_pretrained(model_name)\n",
        "bert2bert = EncoderDecoderModel.from_encoder_decoder_pretrained(model_name, model_name)\n",
        "tokenizer_M2 = AutoTokenizer.from_pretrained(model_name,add_token_type_ids=False)\n",
        "\n",
        "# BERT Tiny model. Citing:\n",
        "# https://huggingface.co/prajjwal1/bert-tiny\n",
        "# @misc{bhargava2021generalization,\n",
        "#      title={Generalization in NLI: Ways (Not) To Go Beyond Simple Heuristics}, \n",
        "#      author={Prajjwal Bhargava and Aleksandr Drozd and Anna Rogers},\n",
        "#      year={2021},\n",
        "#      eprint={2110.01518},\n",
        "#      archivePrefix={arXiv},\n",
        "#      primaryClass={cs.CL}\n",
        "# }\n",
        "# @article{DBLP:journals/corr/abs-1908-08962,\n",
        "#  author    = {Iulia Turc and\n",
        "#               Ming{-}Wei Chang and\n",
        "#               Kenton Lee and\n",
        "#               Kristina Toutanova},\n",
        "#  title     = {Well-Read Students Learn Better: The Impact of Student Initialization\n",
        "#               on Knowledge Distillation},\n",
        "#  journal   = {CoRR},\n",
        "#  volume    = {abs/1908.08962},\n",
        "#  year      = {2019},\n",
        "#  url       = {http://arxiv.org/abs/1908.08962},\n",
        "#  eprinttype = {arXiv},\n",
        "#  eprint    = {1908.08962},\n",
        "#  timestamp = {Thu, 29 Aug 2019 16:32:34 +0200},\n",
        "#  biburl    = {https://dblp.org/rec/journals/corr/abs-1908-08962.bib},\n",
        "#  bibsource = {dblp computer science bibliography, https://dblp.org}\n",
        "# }"
      ]
    },
    {
      "cell_type": "markdown",
      "id": "f1e83f28",
      "metadata": {
        "id": "f1e83f28"
      },
      "source": [
        "## [Task 4] Question generation with text passage $P$ and question $Q$\n",
        "\n",
        "We want to define $f_\\theta(P, Q)$. \n",
        "\n",
        "Write your own script to implement $f_\\theta$ for each model: M1 and M2.\n",
        "\n",
        "#### Formulation\n",
        "\n",
        "Consider a dialogue on text passage $P$. \n",
        "\n",
        "For each question $Q_i$ at dialogue turn $i$, your model should take $P$ and $Q_i$ and generate $A_i$."
      ]
    },
    {
      "cell_type": "code",
      "execution_count": 14,
      "id": "fzhCMQVejoXu",
      "metadata": {
        "id": "fzhCMQVejoXu"
      },
      "outputs": [],
      "source": [
        "# M1 Training tokenization\n",
        "#train_encodings_M1 = tokenization(tokenizer_M1,train_story,train_question,train_answer_start,train_answer_end)"
      ]
    },
    {
      "cell_type": "code",
      "execution_count": 15,
      "id": "NcUPhy_En0PL",
      "metadata": {
        "colab": {
          "base_uri": "https://localhost:8080/"
        },
        "id": "NcUPhy_En0PL",
        "outputId": "3e136509-5af0-473f-f90e-199e83d4dffb"
      },
      "outputs": [
        {
          "output_type": "stream",
          "name": "stdout",
          "text": [
            "Q/A pairs tokenized 20415\n"
          ]
        }
      ],
      "source": [
        "# M1 Validation tokenization\n",
        "val_encodings_M1 = tokenization(tokenizer_M1,val_story,val_question,val_answer_start,val_answer_end)"
      ]
    },
    {
      "cell_type": "code",
      "execution_count": 16,
      "id": "AYBOtjf3n0GL",
      "metadata": {
        "colab": {
          "base_uri": "https://localhost:8080/"
        },
        "id": "AYBOtjf3n0GL",
        "outputId": "566729d8-c527-4612-c98e-7b13eb46cde0"
      },
      "outputs": [
        {
          "output_type": "stream",
          "name": "stdout",
          "text": [
            "Q/A pairs tokenized 7028\n"
          ]
        }
      ],
      "source": [
        "# M1 Test tokenization\n",
        "test_encodings_M1 = tokenization(tokenizer_M1,test_story,test_question,test_answer_start,test_answer_end)"
      ]
    },
    {
      "cell_type": "code",
      "execution_count": 17,
      "id": "LZ1Z02Q2rxRZ",
      "metadata": {
        "id": "LZ1Z02Q2rxRZ"
      },
      "outputs": [],
      "source": [
        "# M1 model Datasets initalization\n",
        "#train_dataset_M1 = QADastset(train_encodings_M1) \n",
        "val_dataset_M1 = QADastset(val_encodings_M1) \n",
        "test_dataset_M1 = QADastset(test_encodings_M1)\n",
        "\n",
        "# DataLoaders initialization\n",
        "#train_dataloader_M1 = DataLoader(train_dataset_M1,batch_size=10,shuffle=True) \n",
        "val_dataloader_M1 = DataLoader(val_dataset_M1,batch_size=10,shuffle=False) \n",
        "test_dataloader_M1 = DataLoader(test_dataset_M1,batch_size=10,shuffle=False) "
      ]
    },
    {
      "cell_type": "code",
      "execution_count": 18,
      "id": "6dm6ok5btZ88",
      "metadata": {
        "colab": {
          "base_uri": "https://localhost:8080/"
        },
        "id": "6dm6ok5btZ88",
        "outputId": "c8ea009b-54e7-4b89-9b04-066d4abfe3c3"
      },
      "outputs": [
        {
          "output_type": "stream",
          "name": "stderr",
          "text": [
            "Epoch 0: 100%|██████████| 2042/2042 [17:17<00:00,  1.97it/s, loss=4.25]\n",
            "Epoch 1: 100%|██████████| 2042/2042 [17:20<00:00,  1.96it/s, loss=3.67]\n",
            "Epoch 2: 100%|██████████| 2042/2042 [17:21<00:00,  1.96it/s, loss=3.02]\n"
          ]
        }
      ],
      "source": [
        "# M1 Model fine tuning\n",
        "M1_pq = fine_tuning_model(M1,val_dataloader_M1,epochs)"
      ]
    },
    {
      "cell_type": "code",
      "execution_count": 19,
      "id": "sZ0p3w_BjNfx",
      "metadata": {
        "colab": {
          "base_uri": "https://localhost:8080/"
        },
        "id": "sZ0p3w_BjNfx",
        "outputId": "1802f60e-3f78-4213-f0ff-30da58097aa0"
      },
      "outputs": [
        {
          "output_type": "execute_result",
          "data": {
            "text/plain": [
              "('M1/fine_tune/tokenizer_config.json',\n",
              " 'M1/fine_tune/special_tokens_map.json',\n",
              " 'M1/fine_tune/vocab.txt',\n",
              " 'M1/fine_tune/added_tokens.json',\n",
              " 'M1/fine_tune/tokenizer.json')"
            ]
          },
          "metadata": {},
          "execution_count": 19
        }
      ],
      "source": [
        "# Saving M1 model and tokenizer after fine tuninig on CoQA training dataset\n",
        "model_path = 'M1/fine_tune'\n",
        "M1_pq.save_pretrained(model_path)\n",
        "tokenizer_M1.save_pretrained(model_path)"
      ]
    },
    {
      "cell_type": "markdown",
      "id": "c4b19a23",
      "metadata": {
        "id": "c4b19a23"
      },
      "source": [
        "## Evaluation"
      ]
    },
    {
      "cell_type": "markdown",
      "id": "7f29594f",
      "metadata": {
        "id": "7f29594f"
      },
      "source": [
        "### Here accuracy is computed simply to understand what the model does and how far it is from guessing correctly"
      ]
    },
    {
      "cell_type": "code",
      "execution_count": 20,
      "id": "8754f2d9",
      "metadata": {
        "id": "8754f2d9"
      },
      "outputs": [],
      "source": [
        "# switch model out of training mode\n",
        "M1_pq.eval()\n",
        "# initialize list to store accuracies\n",
        "acc = []\n",
        "# loop through batches\n",
        "for batch in val_dataloader_M1:\n",
        "    # we don't need to calculate gradients as we're not training\n",
        "    with torch.no_grad():\n",
        "        # pull batched items from loader\n",
        "        input_ids = batch['input_ids'].to(device)\n",
        "        attention_mask = batch['attention_mask'].to(device)\n",
        "        # we will use true positions for accuracy calc\n",
        "        start_true = batch['start_positions'].to(device)\n",
        "        end_true = batch['end_positions'].to(device)\n",
        "        # make predictions\n",
        "        outputs = M1_pq(input_ids, attention_mask=attention_mask)\n",
        "        # pull prediction tensors out and argmax to get predicted tokens\n",
        "        start_pred = torch.argmax(outputs['start_logits'], dim=1)\n",
        "        end_pred = torch.argmax(outputs['end_logits'], dim=1)\n",
        "        # calculate accuracy for both and append to accuracy list\n",
        "        acc.append(((start_pred == start_true).sum()/len(start_pred)).item())\n",
        "        acc.append(((end_pred == end_true).sum()/len(end_pred)).item())\n",
        "# calculate average accuracy in total\n",
        "acc = sum(acc)/len(acc)"
      ]
    },
    {
      "cell_type": "code",
      "execution_count": 21,
      "id": "b6e0de5d",
      "metadata": {
        "colab": {
          "base_uri": "https://localhost:8080/"
        },
        "id": "b6e0de5d",
        "outputId": "dd191de7-b173-4f4d-9d9e-27dbec18bb52"
      },
      "outputs": [
        {
          "output_type": "execute_result",
          "data": {
            "text/plain": [
              "0.48131734296591927"
            ]
          },
          "metadata": {},
          "execution_count": 21
        }
      ],
      "source": [
        "acc"
      ]
    },
    {
      "cell_type": "code",
      "source": [
        "batch['start_positions']"
      ],
      "metadata": {
        "id": "TcpSbMFj9SLm",
        "outputId": "d50fb05d-321b-4343-be5c-2915fcfa66ba",
        "colab": {
          "base_uri": "https://localhost:8080/"
        }
      },
      "id": "TcpSbMFj9SLm",
      "execution_count": 35,
      "outputs": [
        {
          "output_type": "execute_result",
          "data": {
            "text/plain": [
              "tensor([ 10,  10,  86,  60, 170])"
            ]
          },
          "metadata": {},
          "execution_count": 35
        }
      ]
    },
    {
      "cell_type": "code",
      "source": [
        "tokenizer_M1.decode(end_pred) #check"
      ],
      "metadata": {
        "id": "PhjXJ17rfbq3",
        "outputId": "84f0d26f-c786-4c42-f3bf-aae41e2bb8d6",
        "colab": {
          "base_uri": "https://localhost:8080/",
          "height": 35
        }
      },
      "id": "PhjXJ17rfbq3",
      "execution_count": 34,
      "outputs": [
        {
          "output_type": "execute_result",
          "data": {
            "text/plain": [
              "'[unused97] A [unused97] [unused86] A'"
            ],
            "application/vnd.google.colaboratory.intrinsic+json": {
              "type": "string"
            }
          },
          "metadata": {},
          "execution_count": 34
        }
      ]
    },
    {
      "cell_type": "code",
      "execution_count": null,
      "id": "f3f89d8a",
      "metadata": {
        "colab": {
          "base_uri": "https://localhost:8080/"
        },
        "id": "f3f89d8a",
        "outputId": "11a4eaef-d4f8-4d39-9149-ef16fb88ca09"
      },
      "outputs": [
        {
          "output_type": "stream",
          "name": "stdout",
          "text": [
            "T/F\tstart\tend\n",
            "\n",
            "true\t10\t60\n",
            "pred\t86\t97\n",
            "\n",
            "true\t10\t60\n",
            "pred\t60\t86\n",
            "\n",
            "true\t86\t97\n",
            "pred\t86\t97\n",
            "\n",
            "true\t60\t86\n",
            "pred\t60\t86\n",
            "\n",
            "true\t170\t196\n",
            "pred\t60\t204\n",
            "\n"
          ]
        }
      ],
      "source": [
        "print(\"T/F\\tstart\\tend\\n\")\n",
        "for i,_ in enumerate(start_true):\n",
        "    print(f\"true\\t{start_true[i]}\\t{end_true[i]}\\n\"\n",
        "          f\"pred\\t{start_pred[i]}\\t{end_pred[i]}\\n\")"
      ]
    },
    {
      "cell_type": "markdown",
      "id": "e62c65d5",
      "metadata": {
        "id": "e62c65d5"
      },
      "source": [
        "# M2"
      ]
    },
    {
      "cell_type": "code",
      "source": [
        "# CODE TAKEN FROM TUTORS DO NOT RUN \n",
        "# it's here just for reference\n",
        "\n",
        "input_ids = tokenizer_M2(, return_tensors='pt').input_ids\n",
        "labels = tokenizer_M2(, return_tensors='pt').input_ids\n",
        "\n",
        "loss = bert2bert(input_ids=input_ids, decoder_input_ids=labels, labels=labels).loss\n",
        "loss.backward()\n",
        "print(f'{loss}')\n",
        "\n",
        "bert2bert.eval()\n",
        "greedy_output = bert2bert.generate(input_ids, decoder_start_token_id=bert2bert.config.decoder.pad_token_id)\n",
        "print(greedy_output)"
      ],
      "metadata": {
        "id": "z1SokJXh0swS"
      },
      "id": "z1SokJXh0swS",
      "execution_count": null,
      "outputs": []
    },
    {
      "cell_type": "markdown",
      "id": "2ca0bd1a",
      "metadata": {
        "id": "2ca0bd1a"
      },
      "source": [
        "### Tokenization"
      ]
    },
    {
      "cell_type": "code",
      "execution_count": null,
      "id": "0NThIOMjx9RD",
      "metadata": {
        "colab": {
          "base_uri": "https://localhost:8080/"
        },
        "id": "0NThIOMjx9RD",
        "outputId": "b68a2458-d00e-4054-a51f-6ac7526604d6"
      },
      "outputs": [
        {
          "output_type": "stream",
          "name": "stderr",
          "text": [
            "Asking to truncate to max_length but no maximum length is provided and the model has no predefined maximum length. Default to no truncation.\n"
          ]
        }
      ],
      "source": [
        "train_input_encodings_M2, train_labels_M2 = tokenization(tokenizer_M2,train_story,train_question,train_answer_start,train_answer_end,m2=True)"
      ]
    },
    {
      "cell_type": "code",
      "execution_count": null,
      "id": "LrqFlrHIyAHk",
      "metadata": {
        "colab": {
          "base_uri": "https://localhost:8080/"
        },
        "id": "LrqFlrHIyAHk",
        "outputId": "c4f57de1-8361-4e59-fc51-a0d42ecd93b4"
      },
      "outputs": [
        {
          "output_type": "stream",
          "name": "stderr",
          "text": [
            "Asking to truncate to max_length but no maximum length is provided and the model has no predefined maximum length. Default to no truncation.\n"
          ]
        },
        {
          "output_type": "stream",
          "name": "stdout",
          "text": [
            "Q/A pairs tokenized 20497\n"
          ]
        }
      ],
      "source": [
        "val_input_encodings_M2, val_labels_M2 = tokenization(tokenizer_M2,val_story,val_question,val_answer_start,val_answer_end,m2=True)"
      ]
    },
    {
      "cell_type": "code",
      "execution_count": null,
      "id": "kNJoUypjx_6E",
      "metadata": {
        "colab": {
          "base_uri": "https://localhost:8080/"
        },
        "id": "kNJoUypjx_6E",
        "outputId": "f63ef921-3514-475d-d823-58d3cfac2831"
      },
      "outputs": [
        {
          "output_type": "stream",
          "name": "stdout",
          "text": [
            "Q/A pairs tokenized 7060\n"
          ]
        }
      ],
      "source": [
        "test_input_encodings_M2, test_labels_M2 = tokenization(tokenizer_M2,test_story,test_question,test_answer_start,test_answer_end,m2=True)"
      ]
    },
    {
      "cell_type": "markdown",
      "id": "083289b1",
      "metadata": {
        "id": "083289b1"
      },
      "source": [
        "### Datasets and DataLoader initialization"
      ]
    },
    {
      "cell_type": "code",
      "execution_count": null,
      "id": "Tz_spCtByzpc",
      "metadata": {
        "id": "Tz_spCtByzpc"
      },
      "outputs": [],
      "source": [
        "#train_dataset_M2 = QADastset(train_encodings_M2) \n",
        "val_dataset_M2 = QADastset(val_input_encodings_M2, val_labels_M2)\n",
        "test_dataset_M2 = QADastset(test_input_encodings_M2, test_labels_M2)\n",
        "\n",
        "#train_dataloader_M2 = DataLoader(train_dataset_M2,batch_size=10,shuffle=True) \n",
        "val_dataloader_M2 = DataLoader(val_dataset_M2,batch_size=10,shuffle=False) \n",
        "test_dataloader_M2 = DataLoader(test_dataset_M2,batch_size=10,shuffle=False) "
      ]
    },
    {
      "cell_type": "markdown",
      "id": "45efc4cb",
      "metadata": {
        "id": "45efc4cb"
      },
      "source": [
        "### fine-tuning"
      ]
    },
    {
      "cell_type": "code",
      "execution_count": null,
      "id": "a23d29c5",
      "metadata": {
        "colab": {
          "base_uri": "https://localhost:8080/"
        },
        "id": "a23d29c5",
        "outputId": "5b090cd2-3e19-4a9c-b3af-d04771864b98"
      },
      "outputs": [
        {
          "output_type": "stream",
          "name": "stderr",
          "text": [
            "  0%|          | 0/2050 [00:00<?, ?it/s]<ipython-input-9-8947b07cb1de>:20: UserWarning: To copy construct from a tensor, it is recommended to use sourceTensor.clone().detach() or sourceTensor.clone().detach().requires_grad_(True), rather than torch.tensor(sourceTensor).\n",
            "  return ({key: torch.tensor(val[idx]) for key,val in self.input_encodings.items()}, {key: torch.tensor(val[idx]) for key,val in self.labels.items()})\n",
            "Epoch 0: 100%|██████████| 2050/2050 [47:58<00:00,  1.40s/it, loss=0.00349]\n",
            "Epoch 1: 100%|██████████| 2050/2050 [46:03<00:00,  1.35s/it, loss=0.000892]\n",
            "Epoch 2: 100%|██████████| 2050/2050 [43:35<00:00,  1.28s/it, loss=0.000136]\n",
            "/usr/local/lib/python3.8/dist-packages/transformers/generation/utils.py:1387: UserWarning: Neither `max_length` nor `max_new_tokens` has been set, `max_length` will default to 20 (`self.config.max_length`). Controlling `max_length` via the config is deprecated and `max_length` will be removed from the config in v5 of Transformers -- we recommend using `max_new_tokens` to control the maximum length of the generation.\n",
            "  warnings.warn(\n"
          ]
        },
        {
          "output_type": "stream",
          "name": "stdout",
          "text": [
            "tensor([[0, 0, 0, 0, 0, 0, 0, 0, 0, 0, 0, 0, 0, 0, 0, 0, 0, 0, 0, 0],\n",
            "        [0, 0, 0, 0, 0, 0, 0, 0, 0, 0, 0, 0, 0, 0, 0, 0, 0, 0, 0, 0],\n",
            "        [0, 0, 0, 0, 0, 0, 0, 0, 0, 0, 0, 0, 0, 0, 0, 0, 0, 0, 0, 0],\n",
            "        [0, 0, 0, 0, 0, 0, 0, 0, 0, 0, 0, 0, 0, 0, 0, 0, 0, 0, 0, 0],\n",
            "        [0, 0, 0, 0, 0, 0, 0, 0, 0, 0, 0, 0, 0, 0, 0, 0, 0, 0, 0, 0],\n",
            "        [0, 0, 0, 0, 0, 0, 0, 0, 0, 0, 0, 0, 0, 0, 0, 0, 0, 0, 0, 0],\n",
            "        [0, 0, 0, 0, 0, 0, 0, 0, 0, 0, 0, 0, 0, 0, 0, 0, 0, 0, 0, 0]])\n"
          ]
        }
      ],
      "source": [
        "# move model to device\n",
        "bert2bert.to(device)\n",
        "\n",
        "# define optimizer with weight decay to reduce risks of overfitting\n",
        "opt = AdamW(bert2bert.parameters(), lr=5e-5)\n",
        "\n",
        "for epoch in range(epochs): # per epoch training iteration\n",
        "    bert2bert.train()\n",
        "    loop = tqdm(val_dataloader_M2,leave=True)\n",
        "    for batch_ins, batch_labels in loop:\n",
        "\n",
        "        opt.zero_grad()\n",
        "      \n",
        "        # pull tensor batches\n",
        "        input_ids = batch_ins['input_ids'].to(device)\n",
        "        labels = batch_labels['input_ids'].to(device)\n",
        "    \n",
        "        loss = bert2bert(input_ids = input_ids, decoder_input_ids = labels, labels = labels).loss\n",
        "      \n",
        "        # backward pass\n",
        "        loss.backward()\n",
        "      \n",
        "        # optimization step\n",
        "        opt.step()\n",
        "\n",
        "        # display results      \n",
        "        loop.set_description(f'Epoch {epoch}')\n",
        "        loop.set_postfix(loss=loss.item())\n",
        "\n",
        "# don't remember if eval() is enough or if we need the greedy_out too\n",
        "\n",
        "bert2bert.eval()\n",
        "#greedy_out = bert2bert.generate(input_ids, decoder_start_token_id=bert2bert.config.decoder.pad_token_id)\n",
        "#print(greedy_out)"
      ]
    },
    {
      "cell_type": "code",
      "execution_count": null,
      "id": "WMeNMKlZB5dF",
      "metadata": {
        "colab": {
          "base_uri": "https://localhost:8080/"
        },
        "id": "WMeNMKlZB5dF",
        "outputId": "b437ebe7-3daa-467c-8c33-aae1eb8321a1"
      },
      "outputs": [
        {
          "output_type": "execute_result",
          "data": {
            "text/plain": [
              "('M2/fine_tune/tokenizer_config.json',\n",
              " 'M2/fine_tune/special_tokens_map.json',\n",
              " 'M2/fine_tune/vocab.txt',\n",
              " 'M2/fine_tune/added_tokens.json',\n",
              " 'M2/fine_tune/tokenizer.json')"
            ]
          },
          "metadata": {},
          "execution_count": 19
        }
      ],
      "source": [
        "# Saving M2 model and tokenizer after fine tuninig on CoQA training dataset\n",
        "model_path = 'M2/fine_tune'\n",
        "bert2bert.save_pretrained(model_path)\n",
        "tokenizer_M2.save_pretrained(model_path)"
      ]
    },
    {
      "cell_type": "markdown",
      "id": "7311ba86",
      "metadata": {
        "id": "7311ba86"
      },
      "source": [
        "## [Task 5] Question generation with text passage $P$, question $Q$ and dialogue history $H$\n",
        "\n",
        "We want to define $f_\\theta(P, Q, H)$. Write your own script to implement $f_\\theta$ for each model: M1 and M2.\n",
        "\n",
        "#### Formulation\n",
        "\n",
        "Consider a dialogue on text passage $P$. \n",
        "\n",
        "For each question $Q_i$ at dialogue turn $i$, your model should take $P$, $Q_i$, and $H = \\{ Q_0, A_0, \\dots, Q_{i-1}, A_{i-1} \\}$ to generate $A_i$."
      ]
    },
    {
      "cell_type": "markdown",
      "id": "43696753",
      "metadata": {
        "id": "43696753"
      },
      "source": [
        "## M1:"
      ]
    },
    {
      "cell_type": "code",
      "execution_count": null,
      "id": "d1cf2625",
      "metadata": {
        "id": "d1cf2625"
      },
      "outputs": [],
      "source": [
        "# NEEDS TESTING\n",
        "\n",
        "train_dataset_history_M1 = QADastset(train_encodings_M1, history = True) \n",
        "val_dataset_history_M1 = QADastset(val_encodings_M1, history = True) \n",
        "test_dataset_history_M1 = QADastset(test_encodings_M1, history = True)\n",
        "\n",
        "train_dataloader_history_M1 = DataLoader(train_dataset_history_M1,batch_size=10,shuffle=True) \n",
        "val_dataloader_history_M1 = DataLoader(val_dataset_history_M1,batch_size=10,shuffle=False) \n",
        "test_dataloader_history_M1 = DataLoader(test_dataset_history_M1,batch_size=10,shuffle=False) "
      ]
    },
    {
      "cell_type": "code",
      "execution_count": null,
      "id": "bdaaa7f7",
      "metadata": {
        "id": "bdaaa7f7"
      },
      "outputs": [],
      "source": [
        "M1wH = fine_tuning_model(M1, train_dataloader_history_M1, epochs)"
      ]
    },
    {
      "cell_type": "code",
      "execution_count": null,
      "id": "62038024",
      "metadata": {
        "id": "62038024"
      },
      "outputs": [],
      "source": [
        "model_path = 'M1/fine_tune'\n",
        "M1wH.save_pretrained(model_path)\n",
        "tokenizer_M1.save_pretrained(model_path)"
      ]
    },
    {
      "cell_type": "markdown",
      "id": "01e0a470",
      "metadata": {
        "id": "01e0a470"
      },
      "source": [
        "## M2:"
      ]
    },
    {
      "cell_type": "code",
      "execution_count": null,
      "id": "6e869f13",
      "metadata": {
        "id": "6e869f13"
      },
      "outputs": [],
      "source": [
        "# NEEDS TESTING\n",
        "\n",
        "train_dataset_history_M2 = QADastset(train_encodings_M2, history = True) \n",
        "val_dataset_history_M2 = QADastset(val_encodings_M2, history = True) \n",
        "test_dataset_history_M2 = QADastset(test_encodings_M2, history = True)\n",
        "\n",
        "train_dataloader_history_M2 = DataLoader(train_dataset_history_M2,batch_size=10,shuffle=True) \n",
        "val_dataloader_history_M2 = DataLoader(val_dataset_history_M2,batch_size=10,shuffle=False) \n",
        "test_dataloader_history_M2 = DataLoader(test_dataset_history_M2,batch_size=10,shuffle=False) "
      ]
    },
    {
      "cell_type": "code",
      "execution_count": null,
      "id": "6694075c",
      "metadata": {
        "id": "6694075c"
      },
      "outputs": [],
      "source": [
        "model_path = 'M2/fine_tune'\n",
        "M2wH.save_pretrained(model_path)\n",
        "tokenizer_M2.save_pretrained(model_path)"
      ]
    },
    {
      "cell_type": "markdown",
      "id": "b5ac768c",
      "metadata": {
        "id": "b5ac768c"
      },
      "source": [
        "## [Task 6] Train and evaluate $f_\\theta(P, Q)$ and $f_\\theta(P, Q, H)$\n",
        "\n",
        "Write your own script to train and evaluate your $f_\\theta(P, Q)$ and $f_\\theta(P, Q, H)$ models.\n",
        "\n",
        "### Instructions\n",
        "\n",
        "* Perform multiple train/evaluation seed runs: [42, 2022, 1337].$^1$\n",
        "* Evaluate your models with the following metrics: SQUAD F1-score.$^2$\n",
        "* Fine-tune each transformer-based models for **3 epochs**.\n",
        "* Report evaluation SQUAD F1-score computed on the validation and test sets.\n",
        "\n",
        "$^1$ Remember what we said about code reproducibility in Tutorial 2!\n",
        "\n",
        "$^2$ You can use ```allennlp``` python package for a quick implementation of SQUAD F1-score: ```from allennlp_models.rc.tools import squad```. "
      ]
    },
    {
      "cell_type": "markdown",
      "id": "92c7e98f",
      "metadata": {
        "id": "92c7e98f"
      },
      "source": [
        "## [Task 7] Error Analysis\n",
        "\n",
        "Perform a simple and short error analysis as follows:\n",
        "* Group dialogues by ```source``` and report the worst 5 model errors for each source (w.r.t. SQUAD F1-score).\n",
        "* Inspect observed results and try to provide some comments (e.g., do the models make errors when faced with a particular question type?)$^1$\n",
        "\n",
        "$^1$ Check the [paper](https://arxiv.org/pdf/1808.07042.pdf) for some valuable information about question/answer types (e.g., Table 6, Table 8) "
      ]
    },
    {
      "cell_type": "markdown",
      "id": "f1814004",
      "metadata": {
        "id": "f1814004"
      },
      "source": [
        "# Assignment Evaluation\n",
        "\n",
        "The following assignment points will be awarded for each task as follows:\n",
        "\n",
        "* Task 1, Pre-processing $\\rightarrow$ 0.5 points.\n",
        "* Task 2, Dataset Splitting $\\rightarrow$ 0.5 points.\n",
        "* Task 3 and 4, Models Definition $\\rightarrow$ 1.0 points.\n",
        "* Task 5 and 6, Models Training and Evaluation $\\rightarrow$ 2.0 points.\n",
        "* Task 7, Analysis $\\rightarrow$ 1.0 points.\n",
        "* Report $\\rightarrow$ 1.0 points.\n",
        "\n",
        "**Total** = 6 points <br>\n",
        "\n",
        "We may award an additional 0.5 points for outstanding submissions. \n",
        " \n",
        "**Speed Bonus** = 0.5 extra points <br>"
      ]
    },
    {
      "cell_type": "markdown",
      "id": "20a1b2b9",
      "metadata": {
        "id": "20a1b2b9"
      },
      "source": [
        "# Report\n",
        "\n",
        "We apply the rules described in Assignment 1 regarding the report.\n",
        "* Write a clear and concise report following the given overleaf template (**max 2 pages**).\n",
        "* Report validation and test results in a table.$^1$\n",
        "* **Avoid reporting** code snippets or copy-paste terminal outputs $\\rightarrow$ **Provide a clean schema** of what you want to show"
      ]
    },
    {
      "cell_type": "markdown",
      "id": "0967c209",
      "metadata": {
        "id": "0967c209"
      },
      "source": [
        "# Comments and Organization\n",
        "\n",
        "Remember to properly comment your code (it is not necessary to comment each single line) and don't forget to describe your work!\n",
        "\n",
        "Structure your code for readability and maintenance. If you work with Colab, use sections. \n",
        "\n",
        "This allows you to build clean and modular code, as well as easy to read and to debug (notebooks can be quite tricky time to time)."
      ]
    },
    {
      "cell_type": "markdown",
      "id": "23929660",
      "metadata": {
        "id": "23929660"
      },
      "source": [
        "# FAQ (READ THIS!)\n",
        "\n",
        "---\n",
        "\n",
        "**Question**: Does Task 3 also include data tokenization and conversion step?\n",
        "\n",
        "**Answer:** Yes! These steps are usually straightforward since ```transformers``` also offers a specific tokenizer for each model.\n",
        "\n",
        "**Example**: \n",
        "\n",
        "```\n",
        "tokenizer = AutoTokenizer.from_pretrained(\"bert-base-cased\")\n",
        "encoded_text = tokenizer(text)\n",
        "%% Alternatively\n",
        "inputs = tokenizer.tokenize(text, add_special_tokens=True, max_length=min(max_length, 512))\n",
        "input_ids, attention_mask = inputs['input_ids'], inputs['attention_mask']\n",
        "```\n",
        "\n",
        "**Suggestion**: Hugginface's documentation is full of tutorials and user-friendly APIs.\n",
        "\n",
        "---\n",
        "---\n",
        "\n",
        "**Question**: I'm hitting **out of memory error** when training my models, do you have any suggestions?\n",
        "\n",
        "**Answer**: Here are some common workarounds:\n",
        "\n",
        "1. Try decreasing the mini-batch size\n",
        "2. Try applying a different padding strategy (if you are applying padding): e.g. use quantiles instead of maximum sequence length\n",
        "\n",
        "---\n",
        "---"
      ]
    },
    {
      "cell_type": "markdown",
      "id": "9c56a612",
      "metadata": {
        "id": "9c56a612"
      },
      "source": [
        "# Contact\n",
        "\n",
        "For any doubt, question, issue or help, you can always contact us at the following email addresses:\n",
        "\n",
        "Teaching Assistants:\n",
        "\n",
        "* Andrea Galassi -> a.galassi@unibo.it\n",
        "* Federico Ruggeri -> federico.ruggeri6@unibo.it\n",
        "\n",
        "Professor:\n",
        "\n",
        "* Paolo Torroni -> p.torroni@unibo.it"
      ]
    },
    {
      "cell_type": "markdown",
      "id": "54bac4b9",
      "metadata": {
        "id": "54bac4b9"
      },
      "source": [
        "# The End!\n",
        "\n",
        "Questions?"
      ]
    }
  ],
  "metadata": {
    "accelerator": "GPU",
    "celltoolbar": "Slideshow",
    "colab": {
      "collapsed_sections": [
        "bd3f451b",
        "47c07553",
        "b4907f8d",
        "9b3760b5",
        "bfb6c37e",
        "daa786e2",
        "72c7558c",
        "7311ba86",
        "b5ac768c",
        "92c7e98f",
        "f1814004",
        "20a1b2b9",
        "0967c209",
        "23929660",
        "9c56a612",
        "54bac4b9"
      ],
      "provenance": []
    },
    "gpuClass": "premium",
    "kernelspec": {
      "display_name": "Python 3.9.7 ('base')",
      "language": "python",
      "name": "python3"
    },
    "language_info": {
      "codemirror_mode": {
        "name": "ipython",
        "version": 3
      },
      "file_extension": ".py",
      "mimetype": "text/x-python",
      "name": "python",
      "nbconvert_exporter": "python",
      "pygments_lexer": "ipython3",
      "version": "3.9.7"
    },
    "vscode": {
      "interpreter": {
        "hash": "314ecf4e4f15fe22a658b1d57c99615ad4c86847edfd5102777831eb0be2d97e"
      }
    },
    "widgets": {
      "application/vnd.jupyter.widget-state+json": {
        "2325f9b7b5b5416ab723063232d36389": {
          "model_module": "@jupyter-widgets/controls",
          "model_name": "HBoxModel",
          "model_module_version": "1.5.0",
          "state": {
            "_dom_classes": [],
            "_model_module": "@jupyter-widgets/controls",
            "_model_module_version": "1.5.0",
            "_model_name": "HBoxModel",
            "_view_count": null,
            "_view_module": "@jupyter-widgets/controls",
            "_view_module_version": "1.5.0",
            "_view_name": "HBoxView",
            "box_style": "",
            "children": [
              "IPY_MODEL_236821109d264b4ab13c1ec32b64a2fb",
              "IPY_MODEL_d8f2fdf1eab448cebcbc2f1cd3d54191",
              "IPY_MODEL_8b42ec66b2d24137b93b103424e8ae83"
            ],
            "layout": "IPY_MODEL_818a34a5fe3749b0aa5959c09ffdecc6"
          }
        },
        "236821109d264b4ab13c1ec32b64a2fb": {
          "model_module": "@jupyter-widgets/controls",
          "model_name": "HTMLModel",
          "model_module_version": "1.5.0",
          "state": {
            "_dom_classes": [],
            "_model_module": "@jupyter-widgets/controls",
            "_model_module_version": "1.5.0",
            "_model_name": "HTMLModel",
            "_view_count": null,
            "_view_module": "@jupyter-widgets/controls",
            "_view_module_version": "1.5.0",
            "_view_name": "HTMLView",
            "description": "",
            "description_tooltip": null,
            "layout": "IPY_MODEL_f1953091b3a54e7387425e6b2443c66d",
            "placeholder": "​",
            "style": "IPY_MODEL_0574b9a2102d4c289ab1f6e9ef42cdf9",
            "value": "Downloading: 100%"
          }
        },
        "d8f2fdf1eab448cebcbc2f1cd3d54191": {
          "model_module": "@jupyter-widgets/controls",
          "model_name": "FloatProgressModel",
          "model_module_version": "1.5.0",
          "state": {
            "_dom_classes": [],
            "_model_module": "@jupyter-widgets/controls",
            "_model_module_version": "1.5.0",
            "_model_name": "FloatProgressModel",
            "_view_count": null,
            "_view_module": "@jupyter-widgets/controls",
            "_view_module_version": "1.5.0",
            "_view_name": "ProgressView",
            "bar_style": "success",
            "description": "",
            "description_tooltip": null,
            "layout": "IPY_MODEL_5cd876b0732e44839f6f7feccbfabeb1",
            "max": 29,
            "min": 0,
            "orientation": "horizontal",
            "style": "IPY_MODEL_69e954137d8f4098b280c154d2efdfac",
            "value": 29
          }
        },
        "8b42ec66b2d24137b93b103424e8ae83": {
          "model_module": "@jupyter-widgets/controls",
          "model_name": "HTMLModel",
          "model_module_version": "1.5.0",
          "state": {
            "_dom_classes": [],
            "_model_module": "@jupyter-widgets/controls",
            "_model_module_version": "1.5.0",
            "_model_name": "HTMLModel",
            "_view_count": null,
            "_view_module": "@jupyter-widgets/controls",
            "_view_module_version": "1.5.0",
            "_view_name": "HTMLView",
            "description": "",
            "description_tooltip": null,
            "layout": "IPY_MODEL_3ae986c087214fafbde52a665ef87ab6",
            "placeholder": "​",
            "style": "IPY_MODEL_94e37e4656fd44249b7ef40d411878e7",
            "value": " 29.0/29.0 [00:00&lt;00:00, 662B/s]"
          }
        },
        "818a34a5fe3749b0aa5959c09ffdecc6": {
          "model_module": "@jupyter-widgets/base",
          "model_name": "LayoutModel",
          "model_module_version": "1.2.0",
          "state": {
            "_model_module": "@jupyter-widgets/base",
            "_model_module_version": "1.2.0",
            "_model_name": "LayoutModel",
            "_view_count": null,
            "_view_module": "@jupyter-widgets/base",
            "_view_module_version": "1.2.0",
            "_view_name": "LayoutView",
            "align_content": null,
            "align_items": null,
            "align_self": null,
            "border": null,
            "bottom": null,
            "display": null,
            "flex": null,
            "flex_flow": null,
            "grid_area": null,
            "grid_auto_columns": null,
            "grid_auto_flow": null,
            "grid_auto_rows": null,
            "grid_column": null,
            "grid_gap": null,
            "grid_row": null,
            "grid_template_areas": null,
            "grid_template_columns": null,
            "grid_template_rows": null,
            "height": null,
            "justify_content": null,
            "justify_items": null,
            "left": null,
            "margin": null,
            "max_height": null,
            "max_width": null,
            "min_height": null,
            "min_width": null,
            "object_fit": null,
            "object_position": null,
            "order": null,
            "overflow": null,
            "overflow_x": null,
            "overflow_y": null,
            "padding": null,
            "right": null,
            "top": null,
            "visibility": null,
            "width": null
          }
        },
        "f1953091b3a54e7387425e6b2443c66d": {
          "model_module": "@jupyter-widgets/base",
          "model_name": "LayoutModel",
          "model_module_version": "1.2.0",
          "state": {
            "_model_module": "@jupyter-widgets/base",
            "_model_module_version": "1.2.0",
            "_model_name": "LayoutModel",
            "_view_count": null,
            "_view_module": "@jupyter-widgets/base",
            "_view_module_version": "1.2.0",
            "_view_name": "LayoutView",
            "align_content": null,
            "align_items": null,
            "align_self": null,
            "border": null,
            "bottom": null,
            "display": null,
            "flex": null,
            "flex_flow": null,
            "grid_area": null,
            "grid_auto_columns": null,
            "grid_auto_flow": null,
            "grid_auto_rows": null,
            "grid_column": null,
            "grid_gap": null,
            "grid_row": null,
            "grid_template_areas": null,
            "grid_template_columns": null,
            "grid_template_rows": null,
            "height": null,
            "justify_content": null,
            "justify_items": null,
            "left": null,
            "margin": null,
            "max_height": null,
            "max_width": null,
            "min_height": null,
            "min_width": null,
            "object_fit": null,
            "object_position": null,
            "order": null,
            "overflow": null,
            "overflow_x": null,
            "overflow_y": null,
            "padding": null,
            "right": null,
            "top": null,
            "visibility": null,
            "width": null
          }
        },
        "0574b9a2102d4c289ab1f6e9ef42cdf9": {
          "model_module": "@jupyter-widgets/controls",
          "model_name": "DescriptionStyleModel",
          "model_module_version": "1.5.0",
          "state": {
            "_model_module": "@jupyter-widgets/controls",
            "_model_module_version": "1.5.0",
            "_model_name": "DescriptionStyleModel",
            "_view_count": null,
            "_view_module": "@jupyter-widgets/base",
            "_view_module_version": "1.2.0",
            "_view_name": "StyleView",
            "description_width": ""
          }
        },
        "5cd876b0732e44839f6f7feccbfabeb1": {
          "model_module": "@jupyter-widgets/base",
          "model_name": "LayoutModel",
          "model_module_version": "1.2.0",
          "state": {
            "_model_module": "@jupyter-widgets/base",
            "_model_module_version": "1.2.0",
            "_model_name": "LayoutModel",
            "_view_count": null,
            "_view_module": "@jupyter-widgets/base",
            "_view_module_version": "1.2.0",
            "_view_name": "LayoutView",
            "align_content": null,
            "align_items": null,
            "align_self": null,
            "border": null,
            "bottom": null,
            "display": null,
            "flex": null,
            "flex_flow": null,
            "grid_area": null,
            "grid_auto_columns": null,
            "grid_auto_flow": null,
            "grid_auto_rows": null,
            "grid_column": null,
            "grid_gap": null,
            "grid_row": null,
            "grid_template_areas": null,
            "grid_template_columns": null,
            "grid_template_rows": null,
            "height": null,
            "justify_content": null,
            "justify_items": null,
            "left": null,
            "margin": null,
            "max_height": null,
            "max_width": null,
            "min_height": null,
            "min_width": null,
            "object_fit": null,
            "object_position": null,
            "order": null,
            "overflow": null,
            "overflow_x": null,
            "overflow_y": null,
            "padding": null,
            "right": null,
            "top": null,
            "visibility": null,
            "width": null
          }
        },
        "69e954137d8f4098b280c154d2efdfac": {
          "model_module": "@jupyter-widgets/controls",
          "model_name": "ProgressStyleModel",
          "model_module_version": "1.5.0",
          "state": {
            "_model_module": "@jupyter-widgets/controls",
            "_model_module_version": "1.5.0",
            "_model_name": "ProgressStyleModel",
            "_view_count": null,
            "_view_module": "@jupyter-widgets/base",
            "_view_module_version": "1.2.0",
            "_view_name": "StyleView",
            "bar_color": null,
            "description_width": ""
          }
        },
        "3ae986c087214fafbde52a665ef87ab6": {
          "model_module": "@jupyter-widgets/base",
          "model_name": "LayoutModel",
          "model_module_version": "1.2.0",
          "state": {
            "_model_module": "@jupyter-widgets/base",
            "_model_module_version": "1.2.0",
            "_model_name": "LayoutModel",
            "_view_count": null,
            "_view_module": "@jupyter-widgets/base",
            "_view_module_version": "1.2.0",
            "_view_name": "LayoutView",
            "align_content": null,
            "align_items": null,
            "align_self": null,
            "border": null,
            "bottom": null,
            "display": null,
            "flex": null,
            "flex_flow": null,
            "grid_area": null,
            "grid_auto_columns": null,
            "grid_auto_flow": null,
            "grid_auto_rows": null,
            "grid_column": null,
            "grid_gap": null,
            "grid_row": null,
            "grid_template_areas": null,
            "grid_template_columns": null,
            "grid_template_rows": null,
            "height": null,
            "justify_content": null,
            "justify_items": null,
            "left": null,
            "margin": null,
            "max_height": null,
            "max_width": null,
            "min_height": null,
            "min_width": null,
            "object_fit": null,
            "object_position": null,
            "order": null,
            "overflow": null,
            "overflow_x": null,
            "overflow_y": null,
            "padding": null,
            "right": null,
            "top": null,
            "visibility": null,
            "width": null
          }
        },
        "94e37e4656fd44249b7ef40d411878e7": {
          "model_module": "@jupyter-widgets/controls",
          "model_name": "DescriptionStyleModel",
          "model_module_version": "1.5.0",
          "state": {
            "_model_module": "@jupyter-widgets/controls",
            "_model_module_version": "1.5.0",
            "_model_name": "DescriptionStyleModel",
            "_view_count": null,
            "_view_module": "@jupyter-widgets/base",
            "_view_module_version": "1.2.0",
            "_view_name": "StyleView",
            "description_width": ""
          }
        },
        "d9ca1a54664d456193ec955194a9455a": {
          "model_module": "@jupyter-widgets/controls",
          "model_name": "HBoxModel",
          "model_module_version": "1.5.0",
          "state": {
            "_dom_classes": [],
            "_model_module": "@jupyter-widgets/controls",
            "_model_module_version": "1.5.0",
            "_model_name": "HBoxModel",
            "_view_count": null,
            "_view_module": "@jupyter-widgets/controls",
            "_view_module_version": "1.5.0",
            "_view_name": "HBoxView",
            "box_style": "",
            "children": [
              "IPY_MODEL_979c9b46b5464cf39c424a7b7f88c2e5",
              "IPY_MODEL_ebfa63956678411c95f2ecf65ce574bd",
              "IPY_MODEL_c875f23785314591a84261be32ed9bac"
            ],
            "layout": "IPY_MODEL_8627fc59df6447d2875ea332af3e7d0a"
          }
        },
        "979c9b46b5464cf39c424a7b7f88c2e5": {
          "model_module": "@jupyter-widgets/controls",
          "model_name": "HTMLModel",
          "model_module_version": "1.5.0",
          "state": {
            "_dom_classes": [],
            "_model_module": "@jupyter-widgets/controls",
            "_model_module_version": "1.5.0",
            "_model_name": "HTMLModel",
            "_view_count": null,
            "_view_module": "@jupyter-widgets/controls",
            "_view_module_version": "1.5.0",
            "_view_name": "HTMLView",
            "description": "",
            "description_tooltip": null,
            "layout": "IPY_MODEL_5ac52bd1f5fd4ae9b50e0772ba7eca77",
            "placeholder": "​",
            "style": "IPY_MODEL_2867148e49fe47c6b1ef966ac9f3339f",
            "value": "Downloading: 100%"
          }
        },
        "ebfa63956678411c95f2ecf65ce574bd": {
          "model_module": "@jupyter-widgets/controls",
          "model_name": "FloatProgressModel",
          "model_module_version": "1.5.0",
          "state": {
            "_dom_classes": [],
            "_model_module": "@jupyter-widgets/controls",
            "_model_module_version": "1.5.0",
            "_model_name": "FloatProgressModel",
            "_view_count": null,
            "_view_module": "@jupyter-widgets/controls",
            "_view_module_version": "1.5.0",
            "_view_name": "ProgressView",
            "bar_style": "success",
            "description": "",
            "description_tooltip": null,
            "layout": "IPY_MODEL_658553c2608f441bb39ef3f8152d6352",
            "max": 213450,
            "min": 0,
            "orientation": "horizontal",
            "style": "IPY_MODEL_75c79507ad624a699a808b426935645d",
            "value": 213450
          }
        },
        "c875f23785314591a84261be32ed9bac": {
          "model_module": "@jupyter-widgets/controls",
          "model_name": "HTMLModel",
          "model_module_version": "1.5.0",
          "state": {
            "_dom_classes": [],
            "_model_module": "@jupyter-widgets/controls",
            "_model_module_version": "1.5.0",
            "_model_name": "HTMLModel",
            "_view_count": null,
            "_view_module": "@jupyter-widgets/controls",
            "_view_module_version": "1.5.0",
            "_view_name": "HTMLView",
            "description": "",
            "description_tooltip": null,
            "layout": "IPY_MODEL_ed5f72fea5154c878e0bf75fb6d69edb",
            "placeholder": "​",
            "style": "IPY_MODEL_0556fada832a4ab9b92dad9ffc94b105",
            "value": " 213k/213k [00:00&lt;00:00, 868kB/s]"
          }
        },
        "8627fc59df6447d2875ea332af3e7d0a": {
          "model_module": "@jupyter-widgets/base",
          "model_name": "LayoutModel",
          "model_module_version": "1.2.0",
          "state": {
            "_model_module": "@jupyter-widgets/base",
            "_model_module_version": "1.2.0",
            "_model_name": "LayoutModel",
            "_view_count": null,
            "_view_module": "@jupyter-widgets/base",
            "_view_module_version": "1.2.0",
            "_view_name": "LayoutView",
            "align_content": null,
            "align_items": null,
            "align_self": null,
            "border": null,
            "bottom": null,
            "display": null,
            "flex": null,
            "flex_flow": null,
            "grid_area": null,
            "grid_auto_columns": null,
            "grid_auto_flow": null,
            "grid_auto_rows": null,
            "grid_column": null,
            "grid_gap": null,
            "grid_row": null,
            "grid_template_areas": null,
            "grid_template_columns": null,
            "grid_template_rows": null,
            "height": null,
            "justify_content": null,
            "justify_items": null,
            "left": null,
            "margin": null,
            "max_height": null,
            "max_width": null,
            "min_height": null,
            "min_width": null,
            "object_fit": null,
            "object_position": null,
            "order": null,
            "overflow": null,
            "overflow_x": null,
            "overflow_y": null,
            "padding": null,
            "right": null,
            "top": null,
            "visibility": null,
            "width": null
          }
        },
        "5ac52bd1f5fd4ae9b50e0772ba7eca77": {
          "model_module": "@jupyter-widgets/base",
          "model_name": "LayoutModel",
          "model_module_version": "1.2.0",
          "state": {
            "_model_module": "@jupyter-widgets/base",
            "_model_module_version": "1.2.0",
            "_model_name": "LayoutModel",
            "_view_count": null,
            "_view_module": "@jupyter-widgets/base",
            "_view_module_version": "1.2.0",
            "_view_name": "LayoutView",
            "align_content": null,
            "align_items": null,
            "align_self": null,
            "border": null,
            "bottom": null,
            "display": null,
            "flex": null,
            "flex_flow": null,
            "grid_area": null,
            "grid_auto_columns": null,
            "grid_auto_flow": null,
            "grid_auto_rows": null,
            "grid_column": null,
            "grid_gap": null,
            "grid_row": null,
            "grid_template_areas": null,
            "grid_template_columns": null,
            "grid_template_rows": null,
            "height": null,
            "justify_content": null,
            "justify_items": null,
            "left": null,
            "margin": null,
            "max_height": null,
            "max_width": null,
            "min_height": null,
            "min_width": null,
            "object_fit": null,
            "object_position": null,
            "order": null,
            "overflow": null,
            "overflow_x": null,
            "overflow_y": null,
            "padding": null,
            "right": null,
            "top": null,
            "visibility": null,
            "width": null
          }
        },
        "2867148e49fe47c6b1ef966ac9f3339f": {
          "model_module": "@jupyter-widgets/controls",
          "model_name": "DescriptionStyleModel",
          "model_module_version": "1.5.0",
          "state": {
            "_model_module": "@jupyter-widgets/controls",
            "_model_module_version": "1.5.0",
            "_model_name": "DescriptionStyleModel",
            "_view_count": null,
            "_view_module": "@jupyter-widgets/base",
            "_view_module_version": "1.2.0",
            "_view_name": "StyleView",
            "description_width": ""
          }
        },
        "658553c2608f441bb39ef3f8152d6352": {
          "model_module": "@jupyter-widgets/base",
          "model_name": "LayoutModel",
          "model_module_version": "1.2.0",
          "state": {
            "_model_module": "@jupyter-widgets/base",
            "_model_module_version": "1.2.0",
            "_model_name": "LayoutModel",
            "_view_count": null,
            "_view_module": "@jupyter-widgets/base",
            "_view_module_version": "1.2.0",
            "_view_name": "LayoutView",
            "align_content": null,
            "align_items": null,
            "align_self": null,
            "border": null,
            "bottom": null,
            "display": null,
            "flex": null,
            "flex_flow": null,
            "grid_area": null,
            "grid_auto_columns": null,
            "grid_auto_flow": null,
            "grid_auto_rows": null,
            "grid_column": null,
            "grid_gap": null,
            "grid_row": null,
            "grid_template_areas": null,
            "grid_template_columns": null,
            "grid_template_rows": null,
            "height": null,
            "justify_content": null,
            "justify_items": null,
            "left": null,
            "margin": null,
            "max_height": null,
            "max_width": null,
            "min_height": null,
            "min_width": null,
            "object_fit": null,
            "object_position": null,
            "order": null,
            "overflow": null,
            "overflow_x": null,
            "overflow_y": null,
            "padding": null,
            "right": null,
            "top": null,
            "visibility": null,
            "width": null
          }
        },
        "75c79507ad624a699a808b426935645d": {
          "model_module": "@jupyter-widgets/controls",
          "model_name": "ProgressStyleModel",
          "model_module_version": "1.5.0",
          "state": {
            "_model_module": "@jupyter-widgets/controls",
            "_model_module_version": "1.5.0",
            "_model_name": "ProgressStyleModel",
            "_view_count": null,
            "_view_module": "@jupyter-widgets/base",
            "_view_module_version": "1.2.0",
            "_view_name": "StyleView",
            "bar_color": null,
            "description_width": ""
          }
        },
        "ed5f72fea5154c878e0bf75fb6d69edb": {
          "model_module": "@jupyter-widgets/base",
          "model_name": "LayoutModel",
          "model_module_version": "1.2.0",
          "state": {
            "_model_module": "@jupyter-widgets/base",
            "_model_module_version": "1.2.0",
            "_model_name": "LayoutModel",
            "_view_count": null,
            "_view_module": "@jupyter-widgets/base",
            "_view_module_version": "1.2.0",
            "_view_name": "LayoutView",
            "align_content": null,
            "align_items": null,
            "align_self": null,
            "border": null,
            "bottom": null,
            "display": null,
            "flex": null,
            "flex_flow": null,
            "grid_area": null,
            "grid_auto_columns": null,
            "grid_auto_flow": null,
            "grid_auto_rows": null,
            "grid_column": null,
            "grid_gap": null,
            "grid_row": null,
            "grid_template_areas": null,
            "grid_template_columns": null,
            "grid_template_rows": null,
            "height": null,
            "justify_content": null,
            "justify_items": null,
            "left": null,
            "margin": null,
            "max_height": null,
            "max_width": null,
            "min_height": null,
            "min_width": null,
            "object_fit": null,
            "object_position": null,
            "order": null,
            "overflow": null,
            "overflow_x": null,
            "overflow_y": null,
            "padding": null,
            "right": null,
            "top": null,
            "visibility": null,
            "width": null
          }
        },
        "0556fada832a4ab9b92dad9ffc94b105": {
          "model_module": "@jupyter-widgets/controls",
          "model_name": "DescriptionStyleModel",
          "model_module_version": "1.5.0",
          "state": {
            "_model_module": "@jupyter-widgets/controls",
            "_model_module_version": "1.5.0",
            "_model_name": "DescriptionStyleModel",
            "_view_count": null,
            "_view_module": "@jupyter-widgets/base",
            "_view_module_version": "1.2.0",
            "_view_name": "StyleView",
            "description_width": ""
          }
        },
        "99e200e00d66438c84de99b696e063ba": {
          "model_module": "@jupyter-widgets/controls",
          "model_name": "HBoxModel",
          "model_module_version": "1.5.0",
          "state": {
            "_dom_classes": [],
            "_model_module": "@jupyter-widgets/controls",
            "_model_module_version": "1.5.0",
            "_model_name": "HBoxModel",
            "_view_count": null,
            "_view_module": "@jupyter-widgets/controls",
            "_view_module_version": "1.5.0",
            "_view_name": "HBoxView",
            "box_style": "",
            "children": [
              "IPY_MODEL_ed8e59d10e08430e93dca39a5ea25a06",
              "IPY_MODEL_2e8ffa367ff5494c8c50c9d8677970a4",
              "IPY_MODEL_6216e4039a3d4f40961027ba962526ff"
            ],
            "layout": "IPY_MODEL_159fa27fe30a4ed6aa755fb1e757880a"
          }
        },
        "ed8e59d10e08430e93dca39a5ea25a06": {
          "model_module": "@jupyter-widgets/controls",
          "model_name": "HTMLModel",
          "model_module_version": "1.5.0",
          "state": {
            "_dom_classes": [],
            "_model_module": "@jupyter-widgets/controls",
            "_model_module_version": "1.5.0",
            "_model_name": "HTMLModel",
            "_view_count": null,
            "_view_module": "@jupyter-widgets/controls",
            "_view_module_version": "1.5.0",
            "_view_name": "HTMLView",
            "description": "",
            "description_tooltip": null,
            "layout": "IPY_MODEL_01380ef6e6514f3f8dcbee6c00131557",
            "placeholder": "​",
            "style": "IPY_MODEL_5e9da721afa1455eabb06be859987ba9",
            "value": "Downloading: 100%"
          }
        },
        "2e8ffa367ff5494c8c50c9d8677970a4": {
          "model_module": "@jupyter-widgets/controls",
          "model_name": "FloatProgressModel",
          "model_module_version": "1.5.0",
          "state": {
            "_dom_classes": [],
            "_model_module": "@jupyter-widgets/controls",
            "_model_module_version": "1.5.0",
            "_model_name": "FloatProgressModel",
            "_view_count": null,
            "_view_module": "@jupyter-widgets/controls",
            "_view_module_version": "1.5.0",
            "_view_name": "ProgressView",
            "bar_style": "success",
            "description": "",
            "description_tooltip": null,
            "layout": "IPY_MODEL_cd5592b080fc417ba2833418e89c3884",
            "max": 435797,
            "min": 0,
            "orientation": "horizontal",
            "style": "IPY_MODEL_fea05f0a359b49a689f2e4e33e265472",
            "value": 435797
          }
        },
        "6216e4039a3d4f40961027ba962526ff": {
          "model_module": "@jupyter-widgets/controls",
          "model_name": "HTMLModel",
          "model_module_version": "1.5.0",
          "state": {
            "_dom_classes": [],
            "_model_module": "@jupyter-widgets/controls",
            "_model_module_version": "1.5.0",
            "_model_name": "HTMLModel",
            "_view_count": null,
            "_view_module": "@jupyter-widgets/controls",
            "_view_module_version": "1.5.0",
            "_view_name": "HTMLView",
            "description": "",
            "description_tooltip": null,
            "layout": "IPY_MODEL_dc9374d4154848959b63ef01f210ae8a",
            "placeholder": "​",
            "style": "IPY_MODEL_0f108e4873cc426096769694328943f3",
            "value": " 436k/436k [00:00&lt;00:00, 671kB/s]"
          }
        },
        "159fa27fe30a4ed6aa755fb1e757880a": {
          "model_module": "@jupyter-widgets/base",
          "model_name": "LayoutModel",
          "model_module_version": "1.2.0",
          "state": {
            "_model_module": "@jupyter-widgets/base",
            "_model_module_version": "1.2.0",
            "_model_name": "LayoutModel",
            "_view_count": null,
            "_view_module": "@jupyter-widgets/base",
            "_view_module_version": "1.2.0",
            "_view_name": "LayoutView",
            "align_content": null,
            "align_items": null,
            "align_self": null,
            "border": null,
            "bottom": null,
            "display": null,
            "flex": null,
            "flex_flow": null,
            "grid_area": null,
            "grid_auto_columns": null,
            "grid_auto_flow": null,
            "grid_auto_rows": null,
            "grid_column": null,
            "grid_gap": null,
            "grid_row": null,
            "grid_template_areas": null,
            "grid_template_columns": null,
            "grid_template_rows": null,
            "height": null,
            "justify_content": null,
            "justify_items": null,
            "left": null,
            "margin": null,
            "max_height": null,
            "max_width": null,
            "min_height": null,
            "min_width": null,
            "object_fit": null,
            "object_position": null,
            "order": null,
            "overflow": null,
            "overflow_x": null,
            "overflow_y": null,
            "padding": null,
            "right": null,
            "top": null,
            "visibility": null,
            "width": null
          }
        },
        "01380ef6e6514f3f8dcbee6c00131557": {
          "model_module": "@jupyter-widgets/base",
          "model_name": "LayoutModel",
          "model_module_version": "1.2.0",
          "state": {
            "_model_module": "@jupyter-widgets/base",
            "_model_module_version": "1.2.0",
            "_model_name": "LayoutModel",
            "_view_count": null,
            "_view_module": "@jupyter-widgets/base",
            "_view_module_version": "1.2.0",
            "_view_name": "LayoutView",
            "align_content": null,
            "align_items": null,
            "align_self": null,
            "border": null,
            "bottom": null,
            "display": null,
            "flex": null,
            "flex_flow": null,
            "grid_area": null,
            "grid_auto_columns": null,
            "grid_auto_flow": null,
            "grid_auto_rows": null,
            "grid_column": null,
            "grid_gap": null,
            "grid_row": null,
            "grid_template_areas": null,
            "grid_template_columns": null,
            "grid_template_rows": null,
            "height": null,
            "justify_content": null,
            "justify_items": null,
            "left": null,
            "margin": null,
            "max_height": null,
            "max_width": null,
            "min_height": null,
            "min_width": null,
            "object_fit": null,
            "object_position": null,
            "order": null,
            "overflow": null,
            "overflow_x": null,
            "overflow_y": null,
            "padding": null,
            "right": null,
            "top": null,
            "visibility": null,
            "width": null
          }
        },
        "5e9da721afa1455eabb06be859987ba9": {
          "model_module": "@jupyter-widgets/controls",
          "model_name": "DescriptionStyleModel",
          "model_module_version": "1.5.0",
          "state": {
            "_model_module": "@jupyter-widgets/controls",
            "_model_module_version": "1.5.0",
            "_model_name": "DescriptionStyleModel",
            "_view_count": null,
            "_view_module": "@jupyter-widgets/base",
            "_view_module_version": "1.2.0",
            "_view_name": "StyleView",
            "description_width": ""
          }
        },
        "cd5592b080fc417ba2833418e89c3884": {
          "model_module": "@jupyter-widgets/base",
          "model_name": "LayoutModel",
          "model_module_version": "1.2.0",
          "state": {
            "_model_module": "@jupyter-widgets/base",
            "_model_module_version": "1.2.0",
            "_model_name": "LayoutModel",
            "_view_count": null,
            "_view_module": "@jupyter-widgets/base",
            "_view_module_version": "1.2.0",
            "_view_name": "LayoutView",
            "align_content": null,
            "align_items": null,
            "align_self": null,
            "border": null,
            "bottom": null,
            "display": null,
            "flex": null,
            "flex_flow": null,
            "grid_area": null,
            "grid_auto_columns": null,
            "grid_auto_flow": null,
            "grid_auto_rows": null,
            "grid_column": null,
            "grid_gap": null,
            "grid_row": null,
            "grid_template_areas": null,
            "grid_template_columns": null,
            "grid_template_rows": null,
            "height": null,
            "justify_content": null,
            "justify_items": null,
            "left": null,
            "margin": null,
            "max_height": null,
            "max_width": null,
            "min_height": null,
            "min_width": null,
            "object_fit": null,
            "object_position": null,
            "order": null,
            "overflow": null,
            "overflow_x": null,
            "overflow_y": null,
            "padding": null,
            "right": null,
            "top": null,
            "visibility": null,
            "width": null
          }
        },
        "fea05f0a359b49a689f2e4e33e265472": {
          "model_module": "@jupyter-widgets/controls",
          "model_name": "ProgressStyleModel",
          "model_module_version": "1.5.0",
          "state": {
            "_model_module": "@jupyter-widgets/controls",
            "_model_module_version": "1.5.0",
            "_model_name": "ProgressStyleModel",
            "_view_count": null,
            "_view_module": "@jupyter-widgets/base",
            "_view_module_version": "1.2.0",
            "_view_name": "StyleView",
            "bar_color": null,
            "description_width": ""
          }
        },
        "dc9374d4154848959b63ef01f210ae8a": {
          "model_module": "@jupyter-widgets/base",
          "model_name": "LayoutModel",
          "model_module_version": "1.2.0",
          "state": {
            "_model_module": "@jupyter-widgets/base",
            "_model_module_version": "1.2.0",
            "_model_name": "LayoutModel",
            "_view_count": null,
            "_view_module": "@jupyter-widgets/base",
            "_view_module_version": "1.2.0",
            "_view_name": "LayoutView",
            "align_content": null,
            "align_items": null,
            "align_self": null,
            "border": null,
            "bottom": null,
            "display": null,
            "flex": null,
            "flex_flow": null,
            "grid_area": null,
            "grid_auto_columns": null,
            "grid_auto_flow": null,
            "grid_auto_rows": null,
            "grid_column": null,
            "grid_gap": null,
            "grid_row": null,
            "grid_template_areas": null,
            "grid_template_columns": null,
            "grid_template_rows": null,
            "height": null,
            "justify_content": null,
            "justify_items": null,
            "left": null,
            "margin": null,
            "max_height": null,
            "max_width": null,
            "min_height": null,
            "min_width": null,
            "object_fit": null,
            "object_position": null,
            "order": null,
            "overflow": null,
            "overflow_x": null,
            "overflow_y": null,
            "padding": null,
            "right": null,
            "top": null,
            "visibility": null,
            "width": null
          }
        },
        "0f108e4873cc426096769694328943f3": {
          "model_module": "@jupyter-widgets/controls",
          "model_name": "DescriptionStyleModel",
          "model_module_version": "1.5.0",
          "state": {
            "_model_module": "@jupyter-widgets/controls",
            "_model_module_version": "1.5.0",
            "_model_name": "DescriptionStyleModel",
            "_view_count": null,
            "_view_module": "@jupyter-widgets/base",
            "_view_module_version": "1.2.0",
            "_view_name": "StyleView",
            "description_width": ""
          }
        },
        "603c54fe49da44ceb516758ff940635d": {
          "model_module": "@jupyter-widgets/controls",
          "model_name": "HBoxModel",
          "model_module_version": "1.5.0",
          "state": {
            "_dom_classes": [],
            "_model_module": "@jupyter-widgets/controls",
            "_model_module_version": "1.5.0",
            "_model_name": "HBoxModel",
            "_view_count": null,
            "_view_module": "@jupyter-widgets/controls",
            "_view_module_version": "1.5.0",
            "_view_name": "HBoxView",
            "box_style": "",
            "children": [
              "IPY_MODEL_2f5359f384d84c1387efeb5f4b574eb7",
              "IPY_MODEL_6aa9da94a4d240e0ba6c9b3f7f7c490a",
              "IPY_MODEL_d931ce11803846bc95175fe1f4b8036d"
            ],
            "layout": "IPY_MODEL_46c36a9796a54c108d2bd885d22b6cc6"
          }
        },
        "2f5359f384d84c1387efeb5f4b574eb7": {
          "model_module": "@jupyter-widgets/controls",
          "model_name": "HTMLModel",
          "model_module_version": "1.5.0",
          "state": {
            "_dom_classes": [],
            "_model_module": "@jupyter-widgets/controls",
            "_model_module_version": "1.5.0",
            "_model_name": "HTMLModel",
            "_view_count": null,
            "_view_module": "@jupyter-widgets/controls",
            "_view_module_version": "1.5.0",
            "_view_name": "HTMLView",
            "description": "",
            "description_tooltip": null,
            "layout": "IPY_MODEL_bd0d0705499d44f2b0be4f88b6ce7738",
            "placeholder": "​",
            "style": "IPY_MODEL_8a954609c1d846cd9f4c40c3f1f32d1a",
            "value": "Downloading: 100%"
          }
        },
        "6aa9da94a4d240e0ba6c9b3f7f7c490a": {
          "model_module": "@jupyter-widgets/controls",
          "model_name": "FloatProgressModel",
          "model_module_version": "1.5.0",
          "state": {
            "_dom_classes": [],
            "_model_module": "@jupyter-widgets/controls",
            "_model_module_version": "1.5.0",
            "_model_name": "FloatProgressModel",
            "_view_count": null,
            "_view_module": "@jupyter-widgets/controls",
            "_view_module_version": "1.5.0",
            "_view_name": "ProgressView",
            "bar_style": "success",
            "description": "",
            "description_tooltip": null,
            "layout": "IPY_MODEL_60725fb930e54f9681ae42390d7343d5",
            "max": 411,
            "min": 0,
            "orientation": "horizontal",
            "style": "IPY_MODEL_6ce4b6adc1e4496db22efc08b8ecb060",
            "value": 411
          }
        },
        "d931ce11803846bc95175fe1f4b8036d": {
          "model_module": "@jupyter-widgets/controls",
          "model_name": "HTMLModel",
          "model_module_version": "1.5.0",
          "state": {
            "_dom_classes": [],
            "_model_module": "@jupyter-widgets/controls",
            "_model_module_version": "1.5.0",
            "_model_name": "HTMLModel",
            "_view_count": null,
            "_view_module": "@jupyter-widgets/controls",
            "_view_module_version": "1.5.0",
            "_view_name": "HTMLView",
            "description": "",
            "description_tooltip": null,
            "layout": "IPY_MODEL_b0bbb3cefdc44be2b92d4e2618d6765a",
            "placeholder": "​",
            "style": "IPY_MODEL_550d3ac5a2fb4e4fb5246e1029b98381",
            "value": " 411/411 [00:00&lt;00:00, 6.00kB/s]"
          }
        },
        "46c36a9796a54c108d2bd885d22b6cc6": {
          "model_module": "@jupyter-widgets/base",
          "model_name": "LayoutModel",
          "model_module_version": "1.2.0",
          "state": {
            "_model_module": "@jupyter-widgets/base",
            "_model_module_version": "1.2.0",
            "_model_name": "LayoutModel",
            "_view_count": null,
            "_view_module": "@jupyter-widgets/base",
            "_view_module_version": "1.2.0",
            "_view_name": "LayoutView",
            "align_content": null,
            "align_items": null,
            "align_self": null,
            "border": null,
            "bottom": null,
            "display": null,
            "flex": null,
            "flex_flow": null,
            "grid_area": null,
            "grid_auto_columns": null,
            "grid_auto_flow": null,
            "grid_auto_rows": null,
            "grid_column": null,
            "grid_gap": null,
            "grid_row": null,
            "grid_template_areas": null,
            "grid_template_columns": null,
            "grid_template_rows": null,
            "height": null,
            "justify_content": null,
            "justify_items": null,
            "left": null,
            "margin": null,
            "max_height": null,
            "max_width": null,
            "min_height": null,
            "min_width": null,
            "object_fit": null,
            "object_position": null,
            "order": null,
            "overflow": null,
            "overflow_x": null,
            "overflow_y": null,
            "padding": null,
            "right": null,
            "top": null,
            "visibility": null,
            "width": null
          }
        },
        "bd0d0705499d44f2b0be4f88b6ce7738": {
          "model_module": "@jupyter-widgets/base",
          "model_name": "LayoutModel",
          "model_module_version": "1.2.0",
          "state": {
            "_model_module": "@jupyter-widgets/base",
            "_model_module_version": "1.2.0",
            "_model_name": "LayoutModel",
            "_view_count": null,
            "_view_module": "@jupyter-widgets/base",
            "_view_module_version": "1.2.0",
            "_view_name": "LayoutView",
            "align_content": null,
            "align_items": null,
            "align_self": null,
            "border": null,
            "bottom": null,
            "display": null,
            "flex": null,
            "flex_flow": null,
            "grid_area": null,
            "grid_auto_columns": null,
            "grid_auto_flow": null,
            "grid_auto_rows": null,
            "grid_column": null,
            "grid_gap": null,
            "grid_row": null,
            "grid_template_areas": null,
            "grid_template_columns": null,
            "grid_template_rows": null,
            "height": null,
            "justify_content": null,
            "justify_items": null,
            "left": null,
            "margin": null,
            "max_height": null,
            "max_width": null,
            "min_height": null,
            "min_width": null,
            "object_fit": null,
            "object_position": null,
            "order": null,
            "overflow": null,
            "overflow_x": null,
            "overflow_y": null,
            "padding": null,
            "right": null,
            "top": null,
            "visibility": null,
            "width": null
          }
        },
        "8a954609c1d846cd9f4c40c3f1f32d1a": {
          "model_module": "@jupyter-widgets/controls",
          "model_name": "DescriptionStyleModel",
          "model_module_version": "1.5.0",
          "state": {
            "_model_module": "@jupyter-widgets/controls",
            "_model_module_version": "1.5.0",
            "_model_name": "DescriptionStyleModel",
            "_view_count": null,
            "_view_module": "@jupyter-widgets/base",
            "_view_module_version": "1.2.0",
            "_view_name": "StyleView",
            "description_width": ""
          }
        },
        "60725fb930e54f9681ae42390d7343d5": {
          "model_module": "@jupyter-widgets/base",
          "model_name": "LayoutModel",
          "model_module_version": "1.2.0",
          "state": {
            "_model_module": "@jupyter-widgets/base",
            "_model_module_version": "1.2.0",
            "_model_name": "LayoutModel",
            "_view_count": null,
            "_view_module": "@jupyter-widgets/base",
            "_view_module_version": "1.2.0",
            "_view_name": "LayoutView",
            "align_content": null,
            "align_items": null,
            "align_self": null,
            "border": null,
            "bottom": null,
            "display": null,
            "flex": null,
            "flex_flow": null,
            "grid_area": null,
            "grid_auto_columns": null,
            "grid_auto_flow": null,
            "grid_auto_rows": null,
            "grid_column": null,
            "grid_gap": null,
            "grid_row": null,
            "grid_template_areas": null,
            "grid_template_columns": null,
            "grid_template_rows": null,
            "height": null,
            "justify_content": null,
            "justify_items": null,
            "left": null,
            "margin": null,
            "max_height": null,
            "max_width": null,
            "min_height": null,
            "min_width": null,
            "object_fit": null,
            "object_position": null,
            "order": null,
            "overflow": null,
            "overflow_x": null,
            "overflow_y": null,
            "padding": null,
            "right": null,
            "top": null,
            "visibility": null,
            "width": null
          }
        },
        "6ce4b6adc1e4496db22efc08b8ecb060": {
          "model_module": "@jupyter-widgets/controls",
          "model_name": "ProgressStyleModel",
          "model_module_version": "1.5.0",
          "state": {
            "_model_module": "@jupyter-widgets/controls",
            "_model_module_version": "1.5.0",
            "_model_name": "ProgressStyleModel",
            "_view_count": null,
            "_view_module": "@jupyter-widgets/base",
            "_view_module_version": "1.2.0",
            "_view_name": "StyleView",
            "bar_color": null,
            "description_width": ""
          }
        },
        "b0bbb3cefdc44be2b92d4e2618d6765a": {
          "model_module": "@jupyter-widgets/base",
          "model_name": "LayoutModel",
          "model_module_version": "1.2.0",
          "state": {
            "_model_module": "@jupyter-widgets/base",
            "_model_module_version": "1.2.0",
            "_model_name": "LayoutModel",
            "_view_count": null,
            "_view_module": "@jupyter-widgets/base",
            "_view_module_version": "1.2.0",
            "_view_name": "LayoutView",
            "align_content": null,
            "align_items": null,
            "align_self": null,
            "border": null,
            "bottom": null,
            "display": null,
            "flex": null,
            "flex_flow": null,
            "grid_area": null,
            "grid_auto_columns": null,
            "grid_auto_flow": null,
            "grid_auto_rows": null,
            "grid_column": null,
            "grid_gap": null,
            "grid_row": null,
            "grid_template_areas": null,
            "grid_template_columns": null,
            "grid_template_rows": null,
            "height": null,
            "justify_content": null,
            "justify_items": null,
            "left": null,
            "margin": null,
            "max_height": null,
            "max_width": null,
            "min_height": null,
            "min_width": null,
            "object_fit": null,
            "object_position": null,
            "order": null,
            "overflow": null,
            "overflow_x": null,
            "overflow_y": null,
            "padding": null,
            "right": null,
            "top": null,
            "visibility": null,
            "width": null
          }
        },
        "550d3ac5a2fb4e4fb5246e1029b98381": {
          "model_module": "@jupyter-widgets/controls",
          "model_name": "DescriptionStyleModel",
          "model_module_version": "1.5.0",
          "state": {
            "_model_module": "@jupyter-widgets/controls",
            "_model_module_version": "1.5.0",
            "_model_name": "DescriptionStyleModel",
            "_view_count": null,
            "_view_module": "@jupyter-widgets/base",
            "_view_module_version": "1.2.0",
            "_view_name": "StyleView",
            "description_width": ""
          }
        },
        "845a9cb600164c878a7b28a18c5468eb": {
          "model_module": "@jupyter-widgets/controls",
          "model_name": "HBoxModel",
          "model_module_version": "1.5.0",
          "state": {
            "_dom_classes": [],
            "_model_module": "@jupyter-widgets/controls",
            "_model_module_version": "1.5.0",
            "_model_name": "HBoxModel",
            "_view_count": null,
            "_view_module": "@jupyter-widgets/controls",
            "_view_module_version": "1.5.0",
            "_view_name": "HBoxView",
            "box_style": "",
            "children": [
              "IPY_MODEL_6e81b4141190483498b4f39adda8068a",
              "IPY_MODEL_ed5216d13ac84b1989a5450b4c21ce74",
              "IPY_MODEL_4ec5d7f2836442dd86bb33d45b0100ea"
            ],
            "layout": "IPY_MODEL_c4e3ee51a00a4d6faef039f9e21378e3"
          }
        },
        "6e81b4141190483498b4f39adda8068a": {
          "model_module": "@jupyter-widgets/controls",
          "model_name": "HTMLModel",
          "model_module_version": "1.5.0",
          "state": {
            "_dom_classes": [],
            "_model_module": "@jupyter-widgets/controls",
            "_model_module_version": "1.5.0",
            "_model_name": "HTMLModel",
            "_view_count": null,
            "_view_module": "@jupyter-widgets/controls",
            "_view_module_version": "1.5.0",
            "_view_name": "HTMLView",
            "description": "",
            "description_tooltip": null,
            "layout": "IPY_MODEL_94e19e45f49e4d758509db571e45bd32",
            "placeholder": "​",
            "style": "IPY_MODEL_40d4bbda8fe1465298970b779834d43f",
            "value": "Downloading: 100%"
          }
        },
        "ed5216d13ac84b1989a5450b4c21ce74": {
          "model_module": "@jupyter-widgets/controls",
          "model_name": "FloatProgressModel",
          "model_module_version": "1.5.0",
          "state": {
            "_dom_classes": [],
            "_model_module": "@jupyter-widgets/controls",
            "_model_module_version": "1.5.0",
            "_model_name": "FloatProgressModel",
            "_view_count": null,
            "_view_module": "@jupyter-widgets/controls",
            "_view_module_version": "1.5.0",
            "_view_name": "ProgressView",
            "bar_style": "success",
            "description": "",
            "description_tooltip": null,
            "layout": "IPY_MODEL_bcbb5f17fd334bd6a5eb1f4901fe64c7",
            "max": 263273408,
            "min": 0,
            "orientation": "horizontal",
            "style": "IPY_MODEL_d99aeba7aac542678a18e61eb391b293",
            "value": 263273408
          }
        },
        "4ec5d7f2836442dd86bb33d45b0100ea": {
          "model_module": "@jupyter-widgets/controls",
          "model_name": "HTMLModel",
          "model_module_version": "1.5.0",
          "state": {
            "_dom_classes": [],
            "_model_module": "@jupyter-widgets/controls",
            "_model_module_version": "1.5.0",
            "_model_name": "HTMLModel",
            "_view_count": null,
            "_view_module": "@jupyter-widgets/controls",
            "_view_module_version": "1.5.0",
            "_view_name": "HTMLView",
            "description": "",
            "description_tooltip": null,
            "layout": "IPY_MODEL_9c69f2f7864d48e2810ca498af47760a",
            "placeholder": "​",
            "style": "IPY_MODEL_32a6ead688f0401a9a656e33131b5d76",
            "value": " 263M/263M [00:07&lt;00:00, 43.6MB/s]"
          }
        },
        "c4e3ee51a00a4d6faef039f9e21378e3": {
          "model_module": "@jupyter-widgets/base",
          "model_name": "LayoutModel",
          "model_module_version": "1.2.0",
          "state": {
            "_model_module": "@jupyter-widgets/base",
            "_model_module_version": "1.2.0",
            "_model_name": "LayoutModel",
            "_view_count": null,
            "_view_module": "@jupyter-widgets/base",
            "_view_module_version": "1.2.0",
            "_view_name": "LayoutView",
            "align_content": null,
            "align_items": null,
            "align_self": null,
            "border": null,
            "bottom": null,
            "display": null,
            "flex": null,
            "flex_flow": null,
            "grid_area": null,
            "grid_auto_columns": null,
            "grid_auto_flow": null,
            "grid_auto_rows": null,
            "grid_column": null,
            "grid_gap": null,
            "grid_row": null,
            "grid_template_areas": null,
            "grid_template_columns": null,
            "grid_template_rows": null,
            "height": null,
            "justify_content": null,
            "justify_items": null,
            "left": null,
            "margin": null,
            "max_height": null,
            "max_width": null,
            "min_height": null,
            "min_width": null,
            "object_fit": null,
            "object_position": null,
            "order": null,
            "overflow": null,
            "overflow_x": null,
            "overflow_y": null,
            "padding": null,
            "right": null,
            "top": null,
            "visibility": null,
            "width": null
          }
        },
        "94e19e45f49e4d758509db571e45bd32": {
          "model_module": "@jupyter-widgets/base",
          "model_name": "LayoutModel",
          "model_module_version": "1.2.0",
          "state": {
            "_model_module": "@jupyter-widgets/base",
            "_model_module_version": "1.2.0",
            "_model_name": "LayoutModel",
            "_view_count": null,
            "_view_module": "@jupyter-widgets/base",
            "_view_module_version": "1.2.0",
            "_view_name": "LayoutView",
            "align_content": null,
            "align_items": null,
            "align_self": null,
            "border": null,
            "bottom": null,
            "display": null,
            "flex": null,
            "flex_flow": null,
            "grid_area": null,
            "grid_auto_columns": null,
            "grid_auto_flow": null,
            "grid_auto_rows": null,
            "grid_column": null,
            "grid_gap": null,
            "grid_row": null,
            "grid_template_areas": null,
            "grid_template_columns": null,
            "grid_template_rows": null,
            "height": null,
            "justify_content": null,
            "justify_items": null,
            "left": null,
            "margin": null,
            "max_height": null,
            "max_width": null,
            "min_height": null,
            "min_width": null,
            "object_fit": null,
            "object_position": null,
            "order": null,
            "overflow": null,
            "overflow_x": null,
            "overflow_y": null,
            "padding": null,
            "right": null,
            "top": null,
            "visibility": null,
            "width": null
          }
        },
        "40d4bbda8fe1465298970b779834d43f": {
          "model_module": "@jupyter-widgets/controls",
          "model_name": "DescriptionStyleModel",
          "model_module_version": "1.5.0",
          "state": {
            "_model_module": "@jupyter-widgets/controls",
            "_model_module_version": "1.5.0",
            "_model_name": "DescriptionStyleModel",
            "_view_count": null,
            "_view_module": "@jupyter-widgets/base",
            "_view_module_version": "1.2.0",
            "_view_name": "StyleView",
            "description_width": ""
          }
        },
        "bcbb5f17fd334bd6a5eb1f4901fe64c7": {
          "model_module": "@jupyter-widgets/base",
          "model_name": "LayoutModel",
          "model_module_version": "1.2.0",
          "state": {
            "_model_module": "@jupyter-widgets/base",
            "_model_module_version": "1.2.0",
            "_model_name": "LayoutModel",
            "_view_count": null,
            "_view_module": "@jupyter-widgets/base",
            "_view_module_version": "1.2.0",
            "_view_name": "LayoutView",
            "align_content": null,
            "align_items": null,
            "align_self": null,
            "border": null,
            "bottom": null,
            "display": null,
            "flex": null,
            "flex_flow": null,
            "grid_area": null,
            "grid_auto_columns": null,
            "grid_auto_flow": null,
            "grid_auto_rows": null,
            "grid_column": null,
            "grid_gap": null,
            "grid_row": null,
            "grid_template_areas": null,
            "grid_template_columns": null,
            "grid_template_rows": null,
            "height": null,
            "justify_content": null,
            "justify_items": null,
            "left": null,
            "margin": null,
            "max_height": null,
            "max_width": null,
            "min_height": null,
            "min_width": null,
            "object_fit": null,
            "object_position": null,
            "order": null,
            "overflow": null,
            "overflow_x": null,
            "overflow_y": null,
            "padding": null,
            "right": null,
            "top": null,
            "visibility": null,
            "width": null
          }
        },
        "d99aeba7aac542678a18e61eb391b293": {
          "model_module": "@jupyter-widgets/controls",
          "model_name": "ProgressStyleModel",
          "model_module_version": "1.5.0",
          "state": {
            "_model_module": "@jupyter-widgets/controls",
            "_model_module_version": "1.5.0",
            "_model_name": "ProgressStyleModel",
            "_view_count": null,
            "_view_module": "@jupyter-widgets/base",
            "_view_module_version": "1.2.0",
            "_view_name": "StyleView",
            "bar_color": null,
            "description_width": ""
          }
        },
        "9c69f2f7864d48e2810ca498af47760a": {
          "model_module": "@jupyter-widgets/base",
          "model_name": "LayoutModel",
          "model_module_version": "1.2.0",
          "state": {
            "_model_module": "@jupyter-widgets/base",
            "_model_module_version": "1.2.0",
            "_model_name": "LayoutModel",
            "_view_count": null,
            "_view_module": "@jupyter-widgets/base",
            "_view_module_version": "1.2.0",
            "_view_name": "LayoutView",
            "align_content": null,
            "align_items": null,
            "align_self": null,
            "border": null,
            "bottom": null,
            "display": null,
            "flex": null,
            "flex_flow": null,
            "grid_area": null,
            "grid_auto_columns": null,
            "grid_auto_flow": null,
            "grid_auto_rows": null,
            "grid_column": null,
            "grid_gap": null,
            "grid_row": null,
            "grid_template_areas": null,
            "grid_template_columns": null,
            "grid_template_rows": null,
            "height": null,
            "justify_content": null,
            "justify_items": null,
            "left": null,
            "margin": null,
            "max_height": null,
            "max_width": null,
            "min_height": null,
            "min_width": null,
            "object_fit": null,
            "object_position": null,
            "order": null,
            "overflow": null,
            "overflow_x": null,
            "overflow_y": null,
            "padding": null,
            "right": null,
            "top": null,
            "visibility": null,
            "width": null
          }
        },
        "32a6ead688f0401a9a656e33131b5d76": {
          "model_module": "@jupyter-widgets/controls",
          "model_name": "DescriptionStyleModel",
          "model_module_version": "1.5.0",
          "state": {
            "_model_module": "@jupyter-widgets/controls",
            "_model_module_version": "1.5.0",
            "_model_name": "DescriptionStyleModel",
            "_view_count": null,
            "_view_module": "@jupyter-widgets/base",
            "_view_module_version": "1.2.0",
            "_view_name": "StyleView",
            "description_width": ""
          }
        },
        "eced54b4789f451ab0c9988d6caa89b6": {
          "model_module": "@jupyter-widgets/controls",
          "model_name": "HBoxModel",
          "model_module_version": "1.5.0",
          "state": {
            "_dom_classes": [],
            "_model_module": "@jupyter-widgets/controls",
            "_model_module_version": "1.5.0",
            "_model_name": "HBoxModel",
            "_view_count": null,
            "_view_module": "@jupyter-widgets/controls",
            "_view_module_version": "1.5.0",
            "_view_name": "HBoxView",
            "box_style": "",
            "children": [
              "IPY_MODEL_0adea10906cd4e379ff8bc31fc1495cc",
              "IPY_MODEL_8ed26f0952ce448382b4d0d10174641d",
              "IPY_MODEL_41e0703ae86040618ae0579be692459e"
            ],
            "layout": "IPY_MODEL_0de1a5cd618447f0b6458384d48f0ee4"
          }
        },
        "0adea10906cd4e379ff8bc31fc1495cc": {
          "model_module": "@jupyter-widgets/controls",
          "model_name": "HTMLModel",
          "model_module_version": "1.5.0",
          "state": {
            "_dom_classes": [],
            "_model_module": "@jupyter-widgets/controls",
            "_model_module_version": "1.5.0",
            "_model_name": "HTMLModel",
            "_view_count": null,
            "_view_module": "@jupyter-widgets/controls",
            "_view_module_version": "1.5.0",
            "_view_name": "HTMLView",
            "description": "",
            "description_tooltip": null,
            "layout": "IPY_MODEL_4a2e082ff89d4533857f9050fe0f47a9",
            "placeholder": "​",
            "style": "IPY_MODEL_4e69dba22c4045ab98a8e21b2c02bf5d",
            "value": "Downloading: 100%"
          }
        },
        "8ed26f0952ce448382b4d0d10174641d": {
          "model_module": "@jupyter-widgets/controls",
          "model_name": "FloatProgressModel",
          "model_module_version": "1.5.0",
          "state": {
            "_dom_classes": [],
            "_model_module": "@jupyter-widgets/controls",
            "_model_module_version": "1.5.0",
            "_model_name": "FloatProgressModel",
            "_view_count": null,
            "_view_module": "@jupyter-widgets/controls",
            "_view_module_version": "1.5.0",
            "_view_name": "ProgressView",
            "bar_style": "success",
            "description": "",
            "description_tooltip": null,
            "layout": "IPY_MODEL_f16e454b59f54f4c99685755dca7c63d",
            "max": 285,
            "min": 0,
            "orientation": "horizontal",
            "style": "IPY_MODEL_84cd2eca24c84c7da4b2a66c60728c2e",
            "value": 285
          }
        },
        "41e0703ae86040618ae0579be692459e": {
          "model_module": "@jupyter-widgets/controls",
          "model_name": "HTMLModel",
          "model_module_version": "1.5.0",
          "state": {
            "_dom_classes": [],
            "_model_module": "@jupyter-widgets/controls",
            "_model_module_version": "1.5.0",
            "_model_name": "HTMLModel",
            "_view_count": null,
            "_view_module": "@jupyter-widgets/controls",
            "_view_module_version": "1.5.0",
            "_view_name": "HTMLView",
            "description": "",
            "description_tooltip": null,
            "layout": "IPY_MODEL_289b0da3227d4e67bbe92b8dde71d5b6",
            "placeholder": "​",
            "style": "IPY_MODEL_0d577012fde14e17822577d0a93e063a",
            "value": " 285/285 [00:00&lt;00:00, 9.53kB/s]"
          }
        },
        "0de1a5cd618447f0b6458384d48f0ee4": {
          "model_module": "@jupyter-widgets/base",
          "model_name": "LayoutModel",
          "model_module_version": "1.2.0",
          "state": {
            "_model_module": "@jupyter-widgets/base",
            "_model_module_version": "1.2.0",
            "_model_name": "LayoutModel",
            "_view_count": null,
            "_view_module": "@jupyter-widgets/base",
            "_view_module_version": "1.2.0",
            "_view_name": "LayoutView",
            "align_content": null,
            "align_items": null,
            "align_self": null,
            "border": null,
            "bottom": null,
            "display": null,
            "flex": null,
            "flex_flow": null,
            "grid_area": null,
            "grid_auto_columns": null,
            "grid_auto_flow": null,
            "grid_auto_rows": null,
            "grid_column": null,
            "grid_gap": null,
            "grid_row": null,
            "grid_template_areas": null,
            "grid_template_columns": null,
            "grid_template_rows": null,
            "height": null,
            "justify_content": null,
            "justify_items": null,
            "left": null,
            "margin": null,
            "max_height": null,
            "max_width": null,
            "min_height": null,
            "min_width": null,
            "object_fit": null,
            "object_position": null,
            "order": null,
            "overflow": null,
            "overflow_x": null,
            "overflow_y": null,
            "padding": null,
            "right": null,
            "top": null,
            "visibility": null,
            "width": null
          }
        },
        "4a2e082ff89d4533857f9050fe0f47a9": {
          "model_module": "@jupyter-widgets/base",
          "model_name": "LayoutModel",
          "model_module_version": "1.2.0",
          "state": {
            "_model_module": "@jupyter-widgets/base",
            "_model_module_version": "1.2.0",
            "_model_name": "LayoutModel",
            "_view_count": null,
            "_view_module": "@jupyter-widgets/base",
            "_view_module_version": "1.2.0",
            "_view_name": "LayoutView",
            "align_content": null,
            "align_items": null,
            "align_self": null,
            "border": null,
            "bottom": null,
            "display": null,
            "flex": null,
            "flex_flow": null,
            "grid_area": null,
            "grid_auto_columns": null,
            "grid_auto_flow": null,
            "grid_auto_rows": null,
            "grid_column": null,
            "grid_gap": null,
            "grid_row": null,
            "grid_template_areas": null,
            "grid_template_columns": null,
            "grid_template_rows": null,
            "height": null,
            "justify_content": null,
            "justify_items": null,
            "left": null,
            "margin": null,
            "max_height": null,
            "max_width": null,
            "min_height": null,
            "min_width": null,
            "object_fit": null,
            "object_position": null,
            "order": null,
            "overflow": null,
            "overflow_x": null,
            "overflow_y": null,
            "padding": null,
            "right": null,
            "top": null,
            "visibility": null,
            "width": null
          }
        },
        "4e69dba22c4045ab98a8e21b2c02bf5d": {
          "model_module": "@jupyter-widgets/controls",
          "model_name": "DescriptionStyleModel",
          "model_module_version": "1.5.0",
          "state": {
            "_model_module": "@jupyter-widgets/controls",
            "_model_module_version": "1.5.0",
            "_model_name": "DescriptionStyleModel",
            "_view_count": null,
            "_view_module": "@jupyter-widgets/base",
            "_view_module_version": "1.2.0",
            "_view_name": "StyleView",
            "description_width": ""
          }
        },
        "f16e454b59f54f4c99685755dca7c63d": {
          "model_module": "@jupyter-widgets/base",
          "model_name": "LayoutModel",
          "model_module_version": "1.2.0",
          "state": {
            "_model_module": "@jupyter-widgets/base",
            "_model_module_version": "1.2.0",
            "_model_name": "LayoutModel",
            "_view_count": null,
            "_view_module": "@jupyter-widgets/base",
            "_view_module_version": "1.2.0",
            "_view_name": "LayoutView",
            "align_content": null,
            "align_items": null,
            "align_self": null,
            "border": null,
            "bottom": null,
            "display": null,
            "flex": null,
            "flex_flow": null,
            "grid_area": null,
            "grid_auto_columns": null,
            "grid_auto_flow": null,
            "grid_auto_rows": null,
            "grid_column": null,
            "grid_gap": null,
            "grid_row": null,
            "grid_template_areas": null,
            "grid_template_columns": null,
            "grid_template_rows": null,
            "height": null,
            "justify_content": null,
            "justify_items": null,
            "left": null,
            "margin": null,
            "max_height": null,
            "max_width": null,
            "min_height": null,
            "min_width": null,
            "object_fit": null,
            "object_position": null,
            "order": null,
            "overflow": null,
            "overflow_x": null,
            "overflow_y": null,
            "padding": null,
            "right": null,
            "top": null,
            "visibility": null,
            "width": null
          }
        },
        "84cd2eca24c84c7da4b2a66c60728c2e": {
          "model_module": "@jupyter-widgets/controls",
          "model_name": "ProgressStyleModel",
          "model_module_version": "1.5.0",
          "state": {
            "_model_module": "@jupyter-widgets/controls",
            "_model_module_version": "1.5.0",
            "_model_name": "ProgressStyleModel",
            "_view_count": null,
            "_view_module": "@jupyter-widgets/base",
            "_view_module_version": "1.2.0",
            "_view_name": "StyleView",
            "bar_color": null,
            "description_width": ""
          }
        },
        "289b0da3227d4e67bbe92b8dde71d5b6": {
          "model_module": "@jupyter-widgets/base",
          "model_name": "LayoutModel",
          "model_module_version": "1.2.0",
          "state": {
            "_model_module": "@jupyter-widgets/base",
            "_model_module_version": "1.2.0",
            "_model_name": "LayoutModel",
            "_view_count": null,
            "_view_module": "@jupyter-widgets/base",
            "_view_module_version": "1.2.0",
            "_view_name": "LayoutView",
            "align_content": null,
            "align_items": null,
            "align_self": null,
            "border": null,
            "bottom": null,
            "display": null,
            "flex": null,
            "flex_flow": null,
            "grid_area": null,
            "grid_auto_columns": null,
            "grid_auto_flow": null,
            "grid_auto_rows": null,
            "grid_column": null,
            "grid_gap": null,
            "grid_row": null,
            "grid_template_areas": null,
            "grid_template_columns": null,
            "grid_template_rows": null,
            "height": null,
            "justify_content": null,
            "justify_items": null,
            "left": null,
            "margin": null,
            "max_height": null,
            "max_width": null,
            "min_height": null,
            "min_width": null,
            "object_fit": null,
            "object_position": null,
            "order": null,
            "overflow": null,
            "overflow_x": null,
            "overflow_y": null,
            "padding": null,
            "right": null,
            "top": null,
            "visibility": null,
            "width": null
          }
        },
        "0d577012fde14e17822577d0a93e063a": {
          "model_module": "@jupyter-widgets/controls",
          "model_name": "DescriptionStyleModel",
          "model_module_version": "1.5.0",
          "state": {
            "_model_module": "@jupyter-widgets/controls",
            "_model_module_version": "1.5.0",
            "_model_name": "DescriptionStyleModel",
            "_view_count": null,
            "_view_module": "@jupyter-widgets/base",
            "_view_module_version": "1.2.0",
            "_view_name": "StyleView",
            "description_width": ""
          }
        },
        "acc9ebbad66b452781cc5a133800e13b": {
          "model_module": "@jupyter-widgets/controls",
          "model_name": "HBoxModel",
          "model_module_version": "1.5.0",
          "state": {
            "_dom_classes": [],
            "_model_module": "@jupyter-widgets/controls",
            "_model_module_version": "1.5.0",
            "_model_name": "HBoxModel",
            "_view_count": null,
            "_view_module": "@jupyter-widgets/controls",
            "_view_module_version": "1.5.0",
            "_view_name": "HBoxView",
            "box_style": "",
            "children": [
              "IPY_MODEL_765a09d896d74c53a3f5398a814bbffb",
              "IPY_MODEL_905c571a613c4a7d92e6b14ca56ca600",
              "IPY_MODEL_2dba32435d404795b0308591cd45dda1"
            ],
            "layout": "IPY_MODEL_dcd920d51ac4496abb1ab32c4070c1f5"
          }
        },
        "765a09d896d74c53a3f5398a814bbffb": {
          "model_module": "@jupyter-widgets/controls",
          "model_name": "HTMLModel",
          "model_module_version": "1.5.0",
          "state": {
            "_dom_classes": [],
            "_model_module": "@jupyter-widgets/controls",
            "_model_module_version": "1.5.0",
            "_model_name": "HTMLModel",
            "_view_count": null,
            "_view_module": "@jupyter-widgets/controls",
            "_view_module_version": "1.5.0",
            "_view_name": "HTMLView",
            "description": "",
            "description_tooltip": null,
            "layout": "IPY_MODEL_92ea65529e9348e29ef580dd1b93ba2e",
            "placeholder": "​",
            "style": "IPY_MODEL_fda5f88e68b14a5f902781596a74ce72",
            "value": "Downloading: 100%"
          }
        },
        "905c571a613c4a7d92e6b14ca56ca600": {
          "model_module": "@jupyter-widgets/controls",
          "model_name": "FloatProgressModel",
          "model_module_version": "1.5.0",
          "state": {
            "_dom_classes": [],
            "_model_module": "@jupyter-widgets/controls",
            "_model_module_version": "1.5.0",
            "_model_name": "FloatProgressModel",
            "_view_count": null,
            "_view_module": "@jupyter-widgets/controls",
            "_view_module_version": "1.5.0",
            "_view_name": "ProgressView",
            "bar_style": "success",
            "description": "",
            "description_tooltip": null,
            "layout": "IPY_MODEL_f37bf561157d4761a8064ccd1cf0277e",
            "max": 17756393,
            "min": 0,
            "orientation": "horizontal",
            "style": "IPY_MODEL_ea4f0e47951042bf9c98d15951999718",
            "value": 17756393
          }
        },
        "2dba32435d404795b0308591cd45dda1": {
          "model_module": "@jupyter-widgets/controls",
          "model_name": "HTMLModel",
          "model_module_version": "1.5.0",
          "state": {
            "_dom_classes": [],
            "_model_module": "@jupyter-widgets/controls",
            "_model_module_version": "1.5.0",
            "_model_name": "HTMLModel",
            "_view_count": null,
            "_view_module": "@jupyter-widgets/controls",
            "_view_module_version": "1.5.0",
            "_view_name": "HTMLView",
            "description": "",
            "description_tooltip": null,
            "layout": "IPY_MODEL_8b8286f2f979408d99e488d8edff7ea3",
            "placeholder": "​",
            "style": "IPY_MODEL_ab5750d4162b40f8ba17a99047bf0364",
            "value": " 17.8M/17.8M [00:00&lt;00:00, 31.8MB/s]"
          }
        },
        "dcd920d51ac4496abb1ab32c4070c1f5": {
          "model_module": "@jupyter-widgets/base",
          "model_name": "LayoutModel",
          "model_module_version": "1.2.0",
          "state": {
            "_model_module": "@jupyter-widgets/base",
            "_model_module_version": "1.2.0",
            "_model_name": "LayoutModel",
            "_view_count": null,
            "_view_module": "@jupyter-widgets/base",
            "_view_module_version": "1.2.0",
            "_view_name": "LayoutView",
            "align_content": null,
            "align_items": null,
            "align_self": null,
            "border": null,
            "bottom": null,
            "display": null,
            "flex": null,
            "flex_flow": null,
            "grid_area": null,
            "grid_auto_columns": null,
            "grid_auto_flow": null,
            "grid_auto_rows": null,
            "grid_column": null,
            "grid_gap": null,
            "grid_row": null,
            "grid_template_areas": null,
            "grid_template_columns": null,
            "grid_template_rows": null,
            "height": null,
            "justify_content": null,
            "justify_items": null,
            "left": null,
            "margin": null,
            "max_height": null,
            "max_width": null,
            "min_height": null,
            "min_width": null,
            "object_fit": null,
            "object_position": null,
            "order": null,
            "overflow": null,
            "overflow_x": null,
            "overflow_y": null,
            "padding": null,
            "right": null,
            "top": null,
            "visibility": null,
            "width": null
          }
        },
        "92ea65529e9348e29ef580dd1b93ba2e": {
          "model_module": "@jupyter-widgets/base",
          "model_name": "LayoutModel",
          "model_module_version": "1.2.0",
          "state": {
            "_model_module": "@jupyter-widgets/base",
            "_model_module_version": "1.2.0",
            "_model_name": "LayoutModel",
            "_view_count": null,
            "_view_module": "@jupyter-widgets/base",
            "_view_module_version": "1.2.0",
            "_view_name": "LayoutView",
            "align_content": null,
            "align_items": null,
            "align_self": null,
            "border": null,
            "bottom": null,
            "display": null,
            "flex": null,
            "flex_flow": null,
            "grid_area": null,
            "grid_auto_columns": null,
            "grid_auto_flow": null,
            "grid_auto_rows": null,
            "grid_column": null,
            "grid_gap": null,
            "grid_row": null,
            "grid_template_areas": null,
            "grid_template_columns": null,
            "grid_template_rows": null,
            "height": null,
            "justify_content": null,
            "justify_items": null,
            "left": null,
            "margin": null,
            "max_height": null,
            "max_width": null,
            "min_height": null,
            "min_width": null,
            "object_fit": null,
            "object_position": null,
            "order": null,
            "overflow": null,
            "overflow_x": null,
            "overflow_y": null,
            "padding": null,
            "right": null,
            "top": null,
            "visibility": null,
            "width": null
          }
        },
        "fda5f88e68b14a5f902781596a74ce72": {
          "model_module": "@jupyter-widgets/controls",
          "model_name": "DescriptionStyleModel",
          "model_module_version": "1.5.0",
          "state": {
            "_model_module": "@jupyter-widgets/controls",
            "_model_module_version": "1.5.0",
            "_model_name": "DescriptionStyleModel",
            "_view_count": null,
            "_view_module": "@jupyter-widgets/base",
            "_view_module_version": "1.2.0",
            "_view_name": "StyleView",
            "description_width": ""
          }
        },
        "f37bf561157d4761a8064ccd1cf0277e": {
          "model_module": "@jupyter-widgets/base",
          "model_name": "LayoutModel",
          "model_module_version": "1.2.0",
          "state": {
            "_model_module": "@jupyter-widgets/base",
            "_model_module_version": "1.2.0",
            "_model_name": "LayoutModel",
            "_view_count": null,
            "_view_module": "@jupyter-widgets/base",
            "_view_module_version": "1.2.0",
            "_view_name": "LayoutView",
            "align_content": null,
            "align_items": null,
            "align_self": null,
            "border": null,
            "bottom": null,
            "display": null,
            "flex": null,
            "flex_flow": null,
            "grid_area": null,
            "grid_auto_columns": null,
            "grid_auto_flow": null,
            "grid_auto_rows": null,
            "grid_column": null,
            "grid_gap": null,
            "grid_row": null,
            "grid_template_areas": null,
            "grid_template_columns": null,
            "grid_template_rows": null,
            "height": null,
            "justify_content": null,
            "justify_items": null,
            "left": null,
            "margin": null,
            "max_height": null,
            "max_width": null,
            "min_height": null,
            "min_width": null,
            "object_fit": null,
            "object_position": null,
            "order": null,
            "overflow": null,
            "overflow_x": null,
            "overflow_y": null,
            "padding": null,
            "right": null,
            "top": null,
            "visibility": null,
            "width": null
          }
        },
        "ea4f0e47951042bf9c98d15951999718": {
          "model_module": "@jupyter-widgets/controls",
          "model_name": "ProgressStyleModel",
          "model_module_version": "1.5.0",
          "state": {
            "_model_module": "@jupyter-widgets/controls",
            "_model_module_version": "1.5.0",
            "_model_name": "ProgressStyleModel",
            "_view_count": null,
            "_view_module": "@jupyter-widgets/base",
            "_view_module_version": "1.2.0",
            "_view_name": "StyleView",
            "bar_color": null,
            "description_width": ""
          }
        },
        "8b8286f2f979408d99e488d8edff7ea3": {
          "model_module": "@jupyter-widgets/base",
          "model_name": "LayoutModel",
          "model_module_version": "1.2.0",
          "state": {
            "_model_module": "@jupyter-widgets/base",
            "_model_module_version": "1.2.0",
            "_model_name": "LayoutModel",
            "_view_count": null,
            "_view_module": "@jupyter-widgets/base",
            "_view_module_version": "1.2.0",
            "_view_name": "LayoutView",
            "align_content": null,
            "align_items": null,
            "align_self": null,
            "border": null,
            "bottom": null,
            "display": null,
            "flex": null,
            "flex_flow": null,
            "grid_area": null,
            "grid_auto_columns": null,
            "grid_auto_flow": null,
            "grid_auto_rows": null,
            "grid_column": null,
            "grid_gap": null,
            "grid_row": null,
            "grid_template_areas": null,
            "grid_template_columns": null,
            "grid_template_rows": null,
            "height": null,
            "justify_content": null,
            "justify_items": null,
            "left": null,
            "margin": null,
            "max_height": null,
            "max_width": null,
            "min_height": null,
            "min_width": null,
            "object_fit": null,
            "object_position": null,
            "order": null,
            "overflow": null,
            "overflow_x": null,
            "overflow_y": null,
            "padding": null,
            "right": null,
            "top": null,
            "visibility": null,
            "width": null
          }
        },
        "ab5750d4162b40f8ba17a99047bf0364": {
          "model_module": "@jupyter-widgets/controls",
          "model_name": "DescriptionStyleModel",
          "model_module_version": "1.5.0",
          "state": {
            "_model_module": "@jupyter-widgets/controls",
            "_model_module_version": "1.5.0",
            "_model_name": "DescriptionStyleModel",
            "_view_count": null,
            "_view_module": "@jupyter-widgets/base",
            "_view_module_version": "1.2.0",
            "_view_name": "StyleView",
            "description_width": ""
          }
        },
        "bdd626b648394559b67012a30ac4e122": {
          "model_module": "@jupyter-widgets/controls",
          "model_name": "HBoxModel",
          "model_module_version": "1.5.0",
          "state": {
            "_dom_classes": [],
            "_model_module": "@jupyter-widgets/controls",
            "_model_module_version": "1.5.0",
            "_model_name": "HBoxModel",
            "_view_count": null,
            "_view_module": "@jupyter-widgets/controls",
            "_view_module_version": "1.5.0",
            "_view_name": "HBoxView",
            "box_style": "",
            "children": [
              "IPY_MODEL_2b0f3b54375d429f95b006b0fb4d9e0f",
              "IPY_MODEL_4a0cc8238053448c852cb98073057623",
              "IPY_MODEL_d3a64ac71d6749aaa8f94774cb1b800e"
            ],
            "layout": "IPY_MODEL_ba292592a1b2410faa6f258957f60f06"
          }
        },
        "2b0f3b54375d429f95b006b0fb4d9e0f": {
          "model_module": "@jupyter-widgets/controls",
          "model_name": "HTMLModel",
          "model_module_version": "1.5.0",
          "state": {
            "_dom_classes": [],
            "_model_module": "@jupyter-widgets/controls",
            "_model_module_version": "1.5.0",
            "_model_name": "HTMLModel",
            "_view_count": null,
            "_view_module": "@jupyter-widgets/controls",
            "_view_module_version": "1.5.0",
            "_view_name": "HTMLView",
            "description": "",
            "description_tooltip": null,
            "layout": "IPY_MODEL_b8fd54d5dd924584a2b391681f820a8d",
            "placeholder": "​",
            "style": "IPY_MODEL_3e1ad5dd661d41fcbf71b4711d85537e",
            "value": "Downloading: 100%"
          }
        },
        "4a0cc8238053448c852cb98073057623": {
          "model_module": "@jupyter-widgets/controls",
          "model_name": "FloatProgressModel",
          "model_module_version": "1.5.0",
          "state": {
            "_dom_classes": [],
            "_model_module": "@jupyter-widgets/controls",
            "_model_module_version": "1.5.0",
            "_model_name": "FloatProgressModel",
            "_view_count": null,
            "_view_module": "@jupyter-widgets/controls",
            "_view_module_version": "1.5.0",
            "_view_name": "ProgressView",
            "bar_style": "success",
            "description": "",
            "description_tooltip": null,
            "layout": "IPY_MODEL_3a75b1ab5cc24e45ad95ca1459e54d89",
            "max": 231508,
            "min": 0,
            "orientation": "horizontal",
            "style": "IPY_MODEL_1b2cd1b3b6724d12954bd7f555d907ca",
            "value": 231508
          }
        },
        "d3a64ac71d6749aaa8f94774cb1b800e": {
          "model_module": "@jupyter-widgets/controls",
          "model_name": "HTMLModel",
          "model_module_version": "1.5.0",
          "state": {
            "_dom_classes": [],
            "_model_module": "@jupyter-widgets/controls",
            "_model_module_version": "1.5.0",
            "_model_name": "HTMLModel",
            "_view_count": null,
            "_view_module": "@jupyter-widgets/controls",
            "_view_module_version": "1.5.0",
            "_view_name": "HTMLView",
            "description": "",
            "description_tooltip": null,
            "layout": "IPY_MODEL_3a18779eca8b45bbb3d05eec41be2fc4",
            "placeholder": "​",
            "style": "IPY_MODEL_972953ab4b2c4f43b83a0d8f7762dc18",
            "value": " 232k/232k [00:00&lt;00:00, 922kB/s]"
          }
        },
        "ba292592a1b2410faa6f258957f60f06": {
          "model_module": "@jupyter-widgets/base",
          "model_name": "LayoutModel",
          "model_module_version": "1.2.0",
          "state": {
            "_model_module": "@jupyter-widgets/base",
            "_model_module_version": "1.2.0",
            "_model_name": "LayoutModel",
            "_view_count": null,
            "_view_module": "@jupyter-widgets/base",
            "_view_module_version": "1.2.0",
            "_view_name": "LayoutView",
            "align_content": null,
            "align_items": null,
            "align_self": null,
            "border": null,
            "bottom": null,
            "display": null,
            "flex": null,
            "flex_flow": null,
            "grid_area": null,
            "grid_auto_columns": null,
            "grid_auto_flow": null,
            "grid_auto_rows": null,
            "grid_column": null,
            "grid_gap": null,
            "grid_row": null,
            "grid_template_areas": null,
            "grid_template_columns": null,
            "grid_template_rows": null,
            "height": null,
            "justify_content": null,
            "justify_items": null,
            "left": null,
            "margin": null,
            "max_height": null,
            "max_width": null,
            "min_height": null,
            "min_width": null,
            "object_fit": null,
            "object_position": null,
            "order": null,
            "overflow": null,
            "overflow_x": null,
            "overflow_y": null,
            "padding": null,
            "right": null,
            "top": null,
            "visibility": null,
            "width": null
          }
        },
        "b8fd54d5dd924584a2b391681f820a8d": {
          "model_module": "@jupyter-widgets/base",
          "model_name": "LayoutModel",
          "model_module_version": "1.2.0",
          "state": {
            "_model_module": "@jupyter-widgets/base",
            "_model_module_version": "1.2.0",
            "_model_name": "LayoutModel",
            "_view_count": null,
            "_view_module": "@jupyter-widgets/base",
            "_view_module_version": "1.2.0",
            "_view_name": "LayoutView",
            "align_content": null,
            "align_items": null,
            "align_self": null,
            "border": null,
            "bottom": null,
            "display": null,
            "flex": null,
            "flex_flow": null,
            "grid_area": null,
            "grid_auto_columns": null,
            "grid_auto_flow": null,
            "grid_auto_rows": null,
            "grid_column": null,
            "grid_gap": null,
            "grid_row": null,
            "grid_template_areas": null,
            "grid_template_columns": null,
            "grid_template_rows": null,
            "height": null,
            "justify_content": null,
            "justify_items": null,
            "left": null,
            "margin": null,
            "max_height": null,
            "max_width": null,
            "min_height": null,
            "min_width": null,
            "object_fit": null,
            "object_position": null,
            "order": null,
            "overflow": null,
            "overflow_x": null,
            "overflow_y": null,
            "padding": null,
            "right": null,
            "top": null,
            "visibility": null,
            "width": null
          }
        },
        "3e1ad5dd661d41fcbf71b4711d85537e": {
          "model_module": "@jupyter-widgets/controls",
          "model_name": "DescriptionStyleModel",
          "model_module_version": "1.5.0",
          "state": {
            "_model_module": "@jupyter-widgets/controls",
            "_model_module_version": "1.5.0",
            "_model_name": "DescriptionStyleModel",
            "_view_count": null,
            "_view_module": "@jupyter-widgets/base",
            "_view_module_version": "1.2.0",
            "_view_name": "StyleView",
            "description_width": ""
          }
        },
        "3a75b1ab5cc24e45ad95ca1459e54d89": {
          "model_module": "@jupyter-widgets/base",
          "model_name": "LayoutModel",
          "model_module_version": "1.2.0",
          "state": {
            "_model_module": "@jupyter-widgets/base",
            "_model_module_version": "1.2.0",
            "_model_name": "LayoutModel",
            "_view_count": null,
            "_view_module": "@jupyter-widgets/base",
            "_view_module_version": "1.2.0",
            "_view_name": "LayoutView",
            "align_content": null,
            "align_items": null,
            "align_self": null,
            "border": null,
            "bottom": null,
            "display": null,
            "flex": null,
            "flex_flow": null,
            "grid_area": null,
            "grid_auto_columns": null,
            "grid_auto_flow": null,
            "grid_auto_rows": null,
            "grid_column": null,
            "grid_gap": null,
            "grid_row": null,
            "grid_template_areas": null,
            "grid_template_columns": null,
            "grid_template_rows": null,
            "height": null,
            "justify_content": null,
            "justify_items": null,
            "left": null,
            "margin": null,
            "max_height": null,
            "max_width": null,
            "min_height": null,
            "min_width": null,
            "object_fit": null,
            "object_position": null,
            "order": null,
            "overflow": null,
            "overflow_x": null,
            "overflow_y": null,
            "padding": null,
            "right": null,
            "top": null,
            "visibility": null,
            "width": null
          }
        },
        "1b2cd1b3b6724d12954bd7f555d907ca": {
          "model_module": "@jupyter-widgets/controls",
          "model_name": "ProgressStyleModel",
          "model_module_version": "1.5.0",
          "state": {
            "_model_module": "@jupyter-widgets/controls",
            "_model_module_version": "1.5.0",
            "_model_name": "ProgressStyleModel",
            "_view_count": null,
            "_view_module": "@jupyter-widgets/base",
            "_view_module_version": "1.2.0",
            "_view_name": "StyleView",
            "bar_color": null,
            "description_width": ""
          }
        },
        "3a18779eca8b45bbb3d05eec41be2fc4": {
          "model_module": "@jupyter-widgets/base",
          "model_name": "LayoutModel",
          "model_module_version": "1.2.0",
          "state": {
            "_model_module": "@jupyter-widgets/base",
            "_model_module_version": "1.2.0",
            "_model_name": "LayoutModel",
            "_view_count": null,
            "_view_module": "@jupyter-widgets/base",
            "_view_module_version": "1.2.0",
            "_view_name": "LayoutView",
            "align_content": null,
            "align_items": null,
            "align_self": null,
            "border": null,
            "bottom": null,
            "display": null,
            "flex": null,
            "flex_flow": null,
            "grid_area": null,
            "grid_auto_columns": null,
            "grid_auto_flow": null,
            "grid_auto_rows": null,
            "grid_column": null,
            "grid_gap": null,
            "grid_row": null,
            "grid_template_areas": null,
            "grid_template_columns": null,
            "grid_template_rows": null,
            "height": null,
            "justify_content": null,
            "justify_items": null,
            "left": null,
            "margin": null,
            "max_height": null,
            "max_width": null,
            "min_height": null,
            "min_width": null,
            "object_fit": null,
            "object_position": null,
            "order": null,
            "overflow": null,
            "overflow_x": null,
            "overflow_y": null,
            "padding": null,
            "right": null,
            "top": null,
            "visibility": null,
            "width": null
          }
        },
        "972953ab4b2c4f43b83a0d8f7762dc18": {
          "model_module": "@jupyter-widgets/controls",
          "model_name": "DescriptionStyleModel",
          "model_module_version": "1.5.0",
          "state": {
            "_model_module": "@jupyter-widgets/controls",
            "_model_module_version": "1.5.0",
            "_model_name": "DescriptionStyleModel",
            "_view_count": null,
            "_view_module": "@jupyter-widgets/base",
            "_view_module_version": "1.2.0",
            "_view_name": "StyleView",
            "description_width": ""
          }
        }
      }
    }
  },
  "nbformat": 4,
  "nbformat_minor": 5
}